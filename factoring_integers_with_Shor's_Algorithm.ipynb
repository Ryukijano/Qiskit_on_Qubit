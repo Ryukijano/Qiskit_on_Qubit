{
 "cells": [
  {
   "cell_type": "markdown",
   "metadata": {},
   "source": [
    "### Factoring Integers With Shor’s Algorithm\n",
    "\n",
    "The most famous application of quantum computers is factoring integers using Shor’s algorithm. This algorithm is particularly significant because an efficient factorization algorithm could potentially break modern asymmetric encryption schemes, such as RSA.\n",
    "\n",
    "For small integers, this quantum algorithm can be simulated on classical computers. The main challenge in classical implementation lies in the order-finding algorithm. We will first introduce the classical implementation of this algorithm as a preliminary step, and then proceed to explain the quantum order-finding algorithm."
   ]
  },
  {
   "cell_type": "code",
   "execution_count": 1,
   "metadata": {},
   "outputs": [
    {
     "name": "stdout",
     "output_type": "stream",
     "text": [
      "/bin/bash: /home/ryukijano/miniconda3/envs/cuda-quantum/lib/libtinfo.so.6: no version information available (required by /bin/bash)\n"
     ]
    }
   ],
   "source": [
    "!pip install contfrac==1.0.0 -q"
   ]
  },
  {
   "cell_type": "code",
   "execution_count": 2,
   "metadata": {},
   "outputs": [],
   "source": [
    "from math import gcd, log2, ceil\n",
    "import numpy as np\n",
    "import random\n",
    "import cudaq\n",
    "from cudaq import *\n",
    "import fractions\n",
    "import matplotlib.pyplot as plt\n",
    "import contfrac"
   ]
  },
  {
   "cell_type": "markdown",
   "metadata": {},
   "source": [
    "### Shor’s Algorithm\n",
    "\n",
    "The factoring problem for an integer \\( N \\) aims to find integers \\( p \\) and \\( q \\) which are factors of \\( N \\). This problem is particularly interesting when \\( N \\) is not prime and the solutions \\( p \\) and \\( q \\) are non-trivial. In other words, we attempt to find integers \\( p \\) and \\( q \\) satisfying \\( N = p \\cdot q \\) with \\( 1 < p < N \\) and \\( 1 < q < N \\).\n",
    "\n",
    "The algorithm consists of two main ideas:\n",
    "\n",
    "1. Reduce the problem of factoring the integer \\( N \\) to the order-finding problem.\n",
    "2. Solve the order-finding problem: Given integers \\( x \\) and \\( N \\) such that \\( x \\) and \\( N \\) share no common factors (i.e., the greatest common divisor of \\( x \\) and \\( N \\) is 1), find the smallest positive integer \\( r \\) which satisfies \\( x^r \\equiv 1 \\ (\\text{mod} \\ N) \\). This value \\( r \\) is referred to as the order of \\( x \\).\n",
    "\n",
    "These two ideas are combined in the following steps in Shor’s algorithm:\n",
    "\n",
    "1. Rule out the easy case that \\( N \\) is even.\n",
    "2. Select a random integer \\( x \\) between 1 and \\( N-1 \\).\n",
    "3. Check to see if \\( x \\) is a factor of \\( N \\) (if so, we’re done!).\n",
    "4. Find the order of \\( x \\) (i.e., find \\( r \\) such that \\( x^r \\equiv 1 \\ (\\text{mod} \\ N) \\)).\n",
    "5. Check to see if \\( \\gcd(x^{r/2} - 1, N) \\) or \\( \\gcd(x^{r/2} + 1, N) \\) are integers and share common, non-trivial divisors with \\( N \\) (if so, we’re done!).\n",
    "6. If no factor is found, repeat steps 1 through 5.\n",
    "\n",
    "The function `shors_algorithm` below outlines these steps for both the classical and the quantum implementation of Shor’s algorithm. For demonstration purposes, we will also control the initial random integer selected in step 2 so that we can investigate cases in which the selected integer produces common divisors of \\( N \\) in step 5 and others in which step 5 produces no common factors.\n",
    "\n",
    "**Note about terminology:** Some literature refers to the “period-finding problem” in Shor’s algorithm. The order-finding problem, as described above, can be recast as finding the period of the function \\( f(x) = x^a \\ (\\text{mod} \\ N) \\), by noticing that the period of \\( f \\) is one more than the order of \\( x \\). The period-finding problem is more general than the order-finding problem since it aims to find the period of any periodic function, not just modular exponentiation."
   ]
  },
  {
   "cell_type": "code",
   "execution_count": 3,
   "metadata": {},
   "outputs": [],
   "source": [
    "def shors_algorithm(N, initial, quantum):\n",
    "    \"\"\" Factor N using Shor's algorithm with initial starting value and choice of\n",
    "    using either classical or quantum approach for the period finding step\n",
    "    Parameters\n",
    "    ----------\n",
    "    N: int\n",
    "        Integer to be factored (assumed to be non-prime and >1)\n",
    "    initial: int\n",
    "        Initial choice of the random integer between 2 and N-1\n",
    "    quantum: boolean\n",
    "        True if we will call the quantum order-finding algorithm, and false if we call the classical one for step 3.\n",
    "\n",
    "    Returns\n",
    "    -------\n",
    "    a1, a2: int\n",
    "        Non-trivial factors of N\n",
    "    \"\"\"\n",
    "\n",
    "    # 0. Check to see if N is even.\n",
    "    if N % 2 == 0:\n",
    "        divisor1 = 2\n",
    "        divisor2 = N // 2\n",
    "        print(\"Found factors:\", divisor1, divisor2)\n",
    "        return (divisor1, divisor2)\n",
    "\n",
    "    attempts = [initial]\n",
    "    while (True):\n",
    "        # 1. Select a random integer between 2 and N-1\n",
    "        if len(attempts) == 1:\n",
    "            a = initial\n",
    "        else:\n",
    "            a = random.choice(\n",
    "                [n for n in range(N - 1) if n not in attempts and n != 1])\n",
    "\n",
    "        # 2. See if the integer selected in step 1 happens to factor N\n",
    "        print(\"Trying a =\", a)\n",
    "        divisor1 = gcd(a, N)\n",
    "        if divisor1 != 1:\n",
    "            divisor2 = N // divisor1\n",
    "            print(\"Found factors of N={} by chance: {} and {}\".format(\n",
    "                N, divisor1, divisor2))\n",
    "            return (divisor1, divisor2)\n",
    "\n",
    "        # 3. Find the order of a mod N (i.e., r, where a^r = 1 (mod N))\n",
    "        if quantum == True:\n",
    "            r = find_order_quantum(a, N)\n",
    "        else:\n",
    "            r = find_order_classical(a, N)\n",
    "        print(\"The order of a = {} is {}\".format(a, r))\n",
    "\n",
    "        # 4. If the order of a is found and it is\n",
    "        # * even and\n",
    "        # * not a^(r/2) = -1 (mod N),\n",
    "        # then test a^(r/2)-1 and a^(r/2)+1 to see if they share factors with N.\n",
    "        # We also want to rule out the case of finding the trivial factors: 1 and N.\n",
    "        divisor1, divisor2 = test_order(a, r, N)\n",
    "        if (divisor1 != 0):  # test_order will return a 0 if no factor is found\n",
    "            print(\"Found factors of N = {}: {} and {}\".format(\n",
    "                N, divisor1, divisor2))\n",
    "            return divisor1, divisor2\n",
    "\n",
    "        # 5. Repeat\n",
    "        print(\"retrying...\")\n",
    "        attempts.append(a)"
   ]
  },
  {
   "cell_type": "markdown",
   "metadata": {},
   "source": [
    "Let’s first explore the idea of reducing the factoring problem into the order-finding problem. This gets captured in step 4 described above. In this step, we have already established that \\(a\\) and \\(N\\) share no factors other than 1 (i.e., \\(\\gcd(a, N) = 1\\)) and we have found \\(r\\), the order of \\(a\\). With this information we know that \\(a^r \\equiv 1 \\ (\\text{mod} \\ N)\\). Rewritten in another way:\n",
    "\n",
    "\\[a^r - 1 \\equiv 0 \\ (\\text{mod} \\ N)\\]\n",
    "\n",
    "If \\(r\\) is even, we can rewrite \\(a^r - 1\\) as \\((a^{r/2})^2 - 1\\) where \\(a^{r/2} \\not\\equiv -1 \\ (\\text{mod} \\ N)\\). Next, we can factor equation \\(a^r - 1\\) using the identity \\(x^2 - y^2 = (x - y)(x + y)\\):\n",
    "\n",
    "\\[(a^{r/2} - 1)(a^{r/2} + 1) \\equiv 0 \\ (\\text{mod} \\ N)\\]\n",
    "\n",
    "If, in addition, the equation\n",
    "\n",
    "\\[a^{r/2} \\not\\equiv -1 \\ (\\text{mod} \\ N)\\]\n",
    "\n",
    "is satisfied, then at least one of the terms \\(a^{r/2} - 1\\) or \\(a^{r/2} + 1\\) must share a common factor with \\(N\\). Peter Shor demonstrated that there is greater than a 50% chance of randomly selecting a value for \\(a\\) satisfying these properties.\n",
    "\n",
    "The code block below defines a function that tests whether \\(r\\) is even and whether equation \\(a^{r/2} \\not\\equiv -1 \\ (\\text{mod} \\ N)\\) is satisfied and searches for a non-trivial factor of \\(N\\)."
   ]
  },
  {
   "cell_type": "code",
   "execution_count": 4,
   "metadata": {},
   "outputs": [],
   "source": [
    "def test_order(a, r, N):\n",
    "    \"\"\"Checks whether or not a^(r/2)+1 or a^(r/2)-1 share a non-trivial common factor with N\n",
    "    Parameters\n",
    "    ----------\n",
    "    a: int\n",
    "    r: int\n",
    "    N: int\n",
    "\n",
    "    Returns\n",
    "    -------\n",
    "    int, int factors of N, if found; 0,0 otherwise\n",
    "    \"\"\"\n",
    "\n",
    "    if r != None and (r % 2 == 0) and a**r % N == 1:\n",
    "        if (a**(int(r / 2))) % N != -1:\n",
    "            possible_factors = [gcd(r - 1, N), gcd(r + 1, N)]\n",
    "            for test_factor in possible_factors:\n",
    "                if test_factor != 1 and test_factor != N:\n",
    "                    return test_factor, N // test_factor\n",
    "    # period did not produce a factor\n",
    "    else:\n",
    "        print('No non-trivial factor found')\n",
    "        return 0, 0"
   ]
  },
  {
   "cell_type": "markdown",
   "metadata": {},
   "source": [
    "### Solving the Order-Finding Problem Classically\n",
    "\n",
    "The key component of Shor’s algorithm is an efficient quantum algorithm to find the order of \\(a\\). While a straightforward classical algorithm can solve this problem, it is notably inefficient:"
   ]
  },
  {
   "cell_type": "code",
   "execution_count": 5,
   "metadata": {},
   "outputs": [],
   "source": [
    "def find_order_classical(a, N):\n",
    "    \"\"\"A naive classical method to find the order r of a (mod N).\n",
    "    Parameters\n",
    "    ----------\n",
    "    a: int\n",
    "        an integer in the interval [2,N-1]\n",
    "    N: int\n",
    "\n",
    "    Returns\n",
    "    -------\n",
    "    r: int\n",
    "        Period of a^x (mod N)\n",
    "    \"\"\"\n",
    "    assert 1 < a and a < N\n",
    "    r = 1\n",
    "    y = a\n",
    "    while y != 1:\n",
    "        y = y * a % N\n",
    "        r += 1\n",
    "    return r"
   ]
  },
  {
   "cell_type": "markdown",
   "metadata": {},
   "source": [
    "Let’s see how Shor’s algorithm works on a few examples using the classical order-finding problem. Notice how often our choice of value for the initial guess for \\(a\\) produces factors of \\(N\\)."
   ]
  },
  {
   "cell_type": "code",
   "execution_count": 8,
   "metadata": {},
   "outputs": [
    {
     "name": "stdout",
     "output_type": "stream",
     "text": [
      "Trying a = 100\n",
      "The order of a = 100 is 315\n",
      "No non-trivial factor found\n",
      "retrying...\n",
      "Trying a = 645\n",
      "The order of a = 645 is 70\n",
      "Found factors of N = 1349: 71 and 19\n"
     ]
    },
    {
     "data": {
      "text/plain": [
       "(71, 19)"
      ]
     },
     "execution_count": 8,
     "metadata": {},
     "output_type": "execute_result"
    }
   ],
   "source": [
    "my_integer = 1349  #edit this value to try out a few examples\n",
    "# Edit the value in the line below to try out different initial guesses for a.\n",
    "# What happens when you choose a = 42 for the integer 123?\n",
    "# What happens when you choose a = 100 for the integer 123?\n",
    "initial_value_to_start = 100  # edit this value; it should be less than my_integer\n",
    "\n",
    "shors_algorithm(my_integer, initial_value_to_start, False)"
   ]
  },
  {
   "cell_type": "markdown",
   "metadata": {},
   "source": [
    "### Solving the Order-Finding Problem with a Quantum Algorithm\n",
    "\n",
    "The Fourier transform is a classical computation that provides a more efficient algorithm than the one encoded in `find_order_classical` for identifying the period of \\(a\\). The quantum version of the Fourier transform is the central idea of Shor’s Algorithm. This efficient quantum solution derives the period from a measurement of \\(n\\) qubits.\n",
    "\n",
    "The image below outlines the quantum kernel used to find the order of \\(a\\). Notice the last step involves applying the Inverse Quantum Fourier Transform.\n",
    "\n",
    "\n",
    "\n",
    "*Figure: Circuit diagram for finding the phase of the modular multiplication gate \\(U|x\\rangle = |a^x \\mod N\\rangle\\), which will be used to compute the order of \\(a\\) modulo \\(N\\). The number of qubits in the control register determines the accuracy of estimating the phase of \\(a\\). The size of the work register depends on \\(N\\). The goal of this section is to code the diagram as a kernel named `phase_kernel`.*\n",
    "\n",
    "We will need to create a quantum kernel for the Inverse Quantum Fourier Transform. Additionally, we’ll need to create a kernel for modular multiplication: \\(U|x\\rangle = |a^x \\mod N\\rangle\\), which can be repeatedly applied \\(r\\)-times to \\(a\\) to carry out modular exponentiation \\(a^r \\mod N\\).\n",
    "\n",
    "### Inverse Quantum Fourier Transform\n",
    "\n",
    "In the code block below, we define a kernel for the quantum Fourier transform and then use `cudaq.adjoint` to create a kernel for the inverse quantum Fourier transform used in the quantum order-finding algorithm.\n",
    "\n",
    "```python\n",
    "def qft(qubits):\n",
    "    \"\"\"Quantum Fourier Transform on the given qubits.\"\"\"\n",
    "    n = len(qubits)\n",
    "    for i in range(n):\n",
    "        for j in range(i):\n",
    "            cudaq.cp(qubits[j], qubits[i], np.pi / 2**(i-j))\n",
    "        cudaq.h(qubits[i])\n",
    "\n",
    "# Create the inverse Quantum Fourier Transform kernel\n",
    "iqft = cudaq.adjoint(qft)\n",
    "```"
   ]
  },
  {
   "attachments": {
    "image.png": {
     "image/png": "[encoded data removed]"
    }
   },
   "cell_type": "markdown",
   "metadata": {},
   "source": [
    "![image.png](attachment:image.png)"
   ]
  },
  {
   "cell_type": "code",
   "execution_count": 9,
   "metadata": {},
   "outputs": [],
   "source": [
    "# Define kernels for the quantum Fourier transform and the inverse quantum Fourier transform\n",
    "@cudaq.kernel\n",
    "def quantum_fourier_transform(qubits: cudaq.qview):\n",
    "    qubit_count = len(qubits)\n",
    "    # Apply Hadamard gates and controlled rotation gates.\n",
    "    for i in range(qubit_count):\n",
    "        h(qubits[i])\n",
    "        for j in range(i + 1, qubit_count):\n",
    "            angle = (2 * np.pi) / (2**(j - i + 1))\n",
    "            cr1(angle, [qubits[j]], qubits[i])\n",
    "\n",
    "\n",
    "@cudaq.kernel\n",
    "def inverse_qft(qubits: cudaq.qview):\n",
    "    cudaq.adjoint(quantum_fourier_transform, qubits)"
   ]
  },
  {
   "cell_type": "markdown",
   "metadata": {},
   "source": [
    "### Quantum Kernels for Modular Exponentiation\n",
    "\n",
    "While Shor’s algorithm provably can factor numbers faster than known classical techniques, the resources required for implementing Shor’s algorithm are hefty. A full-scale implementation to factor an \\( n \\)-bit number could require a quantum kernel with \\( 2n + 3 \\) qubits to achieve accuracy for the continued fractions part of the algorithm and as many as \\( 72n^3 \\) quantum gates for the modular exponentiation (Beckman, Chari, Devabhaktuni, & Preskill, 1996). Both of these are well beyond the capabilities of modern quantum hardware for numbers of interest. Advancements to reduce the number of gates and qubits required focus on optimizing the kernel for \\( a \\) for properties of the number to be factored. The difficulty is to create efficient quantum kernels (in terms of qubit and gate count) that compute \\( a^x \\mod N \\).\n",
    "\n",
    "For the purposes of this demonstration, we will consider only the order-finding problem for the values of \\( N \\) to be either \\( 15 \\) or \\( 21 \\) with \\( a = 4 \\). We’ll be using the quantum circuits depicted in this [paper](https://arxiv.org/abs/quant-ph/9602016) and this [report](https://arxiv.org/abs/quant-ph/9503016), respectively.\n",
    "\n",
    "#### The Case \\( N = 21 \\) and \\( a = 5 \\)"
   ]
  },
  {
   "cell_type": "code",
   "execution_count": 10,
   "metadata": {},
   "outputs": [],
   "source": [
    "@cudaq.kernel\n",
    "def modular_mult_5_21(work: cudaq.qview):\n",
    "    \"\"\"\"Kernel for multiplying by 5 mod 21\n",
    "    based off of the circuit diagram in\n",
    "    https://physlab.org/wp-content/uploads/2023/05/Shor_s_Algorithm_23100113_Fin.pdf\n",
    "    Modifications were made to change the ordering of the qubits\"\"\"\n",
    "    x(work[0])\n",
    "    x(work[2])\n",
    "    x(work[4])\n",
    "\n",
    "    swap(work[0], work[4])\n",
    "    swap(work[0], work[2])\n",
    "\n",
    "\n",
    "@cudaq.kernel\n",
    "def modular_exp_5_21(exponent: cudaq.qview, work: cudaq.qview,\n",
    "                     control_size: int):\n",
    "    \"\"\" Controlled modular exponentiation kernel used in Shor's algorithm\n",
    "    |x> U^x |y> = |x> |(5^x)y mod 21>\n",
    "    \"\"\"\n",
    "    x(work[0])\n",
    "    for exp in range(control_size):\n",
    "        ctrl_qubit = exponent[exp]\n",
    "        for _ in range(2**(exp)):\n",
    "            cudaq.control(modular_mult_5_21, ctrl_qubit, work)"
   ]
  },
  {
   "cell_type": "code",
   "execution_count": 11,
   "metadata": {},
   "outputs": [
    {
     "name": "stdout",
     "output_type": "stream",
     "text": [
      "     ╭───╮╭───╮      \n",
      "q0 : ┤ x ├┤ x ├─╳──╳─\n",
      "     ╰───╯╰───╯ │  │ \n",
      "q1 : ───────────┼──┼─\n",
      "     ╭───╮      │  │ \n",
      "q2 : ┤ x ├──────┼──╳─\n",
      "     ╰───╯      │    \n",
      "q3 : ───────────┼────\n",
      "     ╭───╮      │    \n",
      "q4 : ┤ x ├──────╳────\n",
      "     ╰───╯           \n",
      "\n",
      "Measurement results from sampling: { 10100:200 }\n",
      "\n",
      "For x = 1, 5^x mod 21 = 5\n",
      "For x = 1, the computed result of the circuit is 5\n"
     ]
    }
   ],
   "source": [
    "# Demonstrate iterated application of 5y mod 21 where y = 1\n",
    "@cudaq.kernel\n",
    "def demonstrate_mod_exponentiation(iterations: int):\n",
    "    qubits = cudaq.qvector(5)\n",
    "    x(qubits[0]\n",
    "     )  # initalizes the qubits in the state for y = 1 which is |10000>\n",
    "    for _ in range(iterations):\n",
    "        modular_mult_5_21(qubits)\n",
    "\n",
    "\n",
    "shots = 200\n",
    "\n",
    "# The iterations variable determines the exponent in 5^x mod 21.\n",
    "# Change this value to verify that the demonstrate_mod_exponentiation\n",
    "# kernel carries out the desired calculation.\n",
    "iterations = 1\n",
    "\n",
    "print(cudaq.draw(demonstrate_mod_exponentiation, iterations))\n",
    "\n",
    "results = cudaq.sample(demonstrate_mod_exponentiation,\n",
    "                       iterations,\n",
    "                       shots_count=shots)\n",
    "\n",
    "print(\"Measurement results from sampling:\", results)\n",
    "\n",
    "# Reverse the order of the most probable measured bit string\n",
    "# and convert the binary string to an integer\n",
    "integer_result = int(results.most_probable()[::-1], 2)\n",
    "\n",
    "print(\"For x = {}, 5^x mod 21 = {}\".format(iterations, (5**iterations) % 21))\n",
    "print(\"For x = {}, the computed result of the circuit is {}\".format(\n",
    "    iterations, integer_result))"
   ]
  },
  {
   "cell_type": "markdown",
   "metadata": {},
   "source": [
    "#### The Case \\( N = 21 \\) and \\( a = 4 \\)\n",
    "\n",
    "The example below demonstrates an optimized work register that uses fewer gates and qubits compared to a straightforward implementation of modular multiplication, as seen in the previous case."
   ]
  },
  {
   "cell_type": "code",
   "execution_count": 15,
   "metadata": {},
   "outputs": [],
   "source": [
    "@cudaq.kernel\n",
    "def modular_exp_4_21(exponent: cudaq.qview, work: cudaq.qview):\n",
    "    \"\"\" Controlled modular exponentiation kernel used in Shor's algorithm\n",
    "     |x> U^x |y> = |x> |(4^x)y mod 21>\n",
    "     based off of the circuit diagram in https://arxiv.org/abs/2103.13855\n",
    "     Modifications were made to account for qubit ordering differences\"\"\"\n",
    "    swap(exponent[0], exponent[2])\n",
    "    # x = 1\n",
    "    x.ctrl(exponent[2], work[1])\n",
    "\n",
    "    # x = 2\n",
    "    x.ctrl(exponent[1], work[1])\n",
    "    x.ctrl(work[1], work[0])\n",
    "    x.ctrl([exponent[1], work[0]], work[1])\n",
    "    x.ctrl(work[1], work[0])\n",
    "\n",
    "    # x = 4\n",
    "    x(work[1])\n",
    "    x.ctrl([exponent[0], work[1]], work[0])\n",
    "    x(work[1])\n",
    "    x.ctrl(work[1], work[0])\n",
    "    x.ctrl([exponent[0], work[0]], work[1])\n",
    "    x.ctrl(work[1], work[0])\n",
    "    swap(exponent[0], exponent[2])"
   ]
  },
  {
   "cell_type": "code",
   "execution_count": 16,
   "metadata": {},
   "outputs": [],
   "source": [
    "@cudaq.kernel\n",
    "def phase_kernel(control_register_size: int, work_register_size: int, a: int,\n",
    "                 N: int):\n",
    "    \"\"\"\n",
    "    Kernel to estimate the phase of the modular multiplication gate |x> U |y> = |x> |a*y mod 21> for a = 4 or 5\n",
    "    \"\"\"\n",
    "\n",
    "    qubits = cudaq.qvector(control_register_size + work_register_size)\n",
    "    control_register = qubits[0:control_register_size]\n",
    "    work_register = qubits[control_register_size:control_register_size +\n",
    "                           work_register_size]\n",
    "\n",
    "    h(control_register)\n",
    "\n",
    "    if a == 4 and N == 21:\n",
    "        modular_exp_4_21(control_register, work_register)\n",
    "    if a == 5 and N == 21:\n",
    "        modular_exp_5_21(control_register, work_register, control_register_size)\n",
    "\n",
    "    inverse_qft(control_register)\n",
    "\n",
    "    # Measure only the control_register and not the work_register\n",
    "    mz(control_register)"
   ]
  },
  {
   "cell_type": "code",
   "execution_count": null,
   "metadata": {},
   "outputs": [
    {
     "name": "stdout",
     "output_type": "stream",
     "text": [
      "     ╭───╮                                                                    »\n",
      "q0 : ┤ h ├──●────●────●───●──●────────────────────────────────────────────────»\n",
      "     ├───┤  │    │    │   │  │                                                »\n",
      "q1 : ┤ h ├──┼────┼────┼───┼──┼───●────●────●───●──●───●────●────●───●──●──────»\n",
      "     ├───┤  │    │    │   │  │   │    │    │   │  │   │    │    │   │  │      »\n",
      "q2 : ┤ h ├──┼────┼────┼───┼──┼───┼────┼────┼───┼──┼───┼────┼────┼───┼──┼───●──»\n",
      "     ├───┤╭─┴─╮  │    │   │  │ ╭─┴─╮  │    │   │  │ ╭─┴─╮  │    │   │  │ ╭─┴─╮»\n",
      "q3 : ┤ x ├┤ x ├──┼────┼───╳──╳─┤ x ├──┼────┼───╳──╳─┤ x ├──┼────┼───╳──╳─┤ x ├»\n",
      "     ╰───╯╰───╯  │    │   │  │ ╰───╯  │    │   │  │ ╰───╯  │    │   │  │ ╰───╯»\n",
      "q4 : ────────────┼────┼───┼──┼────────┼────┼───┼──┼────────┼────┼───┼──┼──────»\n",
      "               ╭─┴─╮  │   │  │      ╭─┴─╮  │   │  │      ╭─┴─╮  │   │  │      »\n",
      "q5 : ──────────┤ x ├──┼───┼──╳──────┤ x ├──┼───┼──╳──────┤ x ├──┼───┼──╳──────»\n",
      "               ╰───╯  │   │         ╰───╯  │   │         ╰───╯  │   │         »\n",
      "q6 : ─────────────────┼───┼────────────────┼───┼────────────────┼───┼─────────»\n",
      "                    ╭─┴─╮ │              ╭─┴─╮ │              ╭─┴─╮ │         »\n",
      "q7 : ───────────────┤ x ├─╳──────────────┤ x ├─╳──────────────┤ x ├─╳─────────»\n",
      "                    ╰───╯                ╰───╯                ╰───╯           »\n",
      "\n",
      "################################################################################\n",
      "\n",
      "                                                                            »\n",
      "────────────────────────────────────────────────────────────────────────────»\n",
      "                                                                            »\n",
      "────────────────────────────────────────────────────────────────────────────»\n",
      "                                                                            »\n",
      "──●────●───●──●───●────●────●───●──●───●────●────●───●──●───●────●────●───●─»\n",
      "  │    │   │  │ ╭─┴─╮  │    │   │  │ ╭─┴─╮  │    │   │  │ ╭─┴─╮  │    │   │ »\n",
      "──┼────┼───╳──╳─┤ x ├──┼────┼───╳──╳─┤ x ├──┼────┼───╳──╳─┤ x ├──┼────┼───╳─»\n",
      "  │    │   │  │ ╰───╯  │    │   │  │ ╰───╯  │    │   │  │ ╰───╯  │    │   │ »\n",
      "──┼────┼───┼──┼────────┼────┼───┼──┼────────┼────┼───┼──┼────────┼────┼───┼─»\n",
      "╭─┴─╮  │   │  │      ╭─┴─╮  │   │  │      ╭─┴─╮  │   │  │      ╭─┴─╮  │   │ »\n",
      "┤ x ├──┼───┼──╳──────┤ x ├──┼───┼──╳──────┤ x ├──┼───┼──╳──────┤ x ├──┼───┼─»\n",
      "╰───╯  │   │         ╰───╯  │   │         ╰───╯  │   │         ╰───╯  │   │ »\n",
      "───────┼───┼────────────────┼───┼────────────────┼───┼────────────────┼───┼─»\n",
      "     ╭─┴─╮ │              ╭─┴─╮ │              ╭─┴─╮ │              ╭─┴─╮ │ »\n",
      "─────┤ x ├─╳──────────────┤ x ├─╳──────────────┤ x ├─╳──────────────┤ x ├─╳─»\n",
      "     ╰───╯                ╰───╯                ╰───╯                ╰───╯   »\n",
      "\n",
      "################################################################################\n",
      "\n",
      "                           ╭─────────────╮╭────────────╮╭───╮\n",
      "───────────────────────────┤ r1(-0.7854) ├┤ r1(-1.571) ├┤ h ├\n",
      "        ╭────────────╮╭───╮╰──────┬──────╯╰─────┬──────╯╰───╯\n",
      "────────┤ r1(-1.571) ├┤ h ├───────┼─────────────●────────────\n",
      "   ╭───╮╰─────┬──────╯╰───╯       │                          \n",
      "─●─┤ h ├──────●───────────────────●──────────────────────────\n",
      " │ ╰───╯                                                     \n",
      "─╳───────────────────────────────────────────────────────────\n",
      " │                                                           \n",
      "─┼───────────────────────────────────────────────────────────\n",
      " │                                                           \n",
      "─╳───────────────────────────────────────────────────────────\n",
      "                                                             \n",
      "─────────────────────────────────────────────────────────────\n",
      "                                                             \n",
      "─────────────────────────────────────────────────────────────\n",
      "                                                             \n",
      "\n",
      "Measurement results for a=5 and N=21 with 3 qubits in the control register \n",
      "{ 000:28231 111:18868 010:9281 100:28369 001:18581 101:18637 011:18532 110:9501 }\n",
      "\n"
     ]
    }
   ],
   "source": [
    "control_register_size = 3\n",
    "work_register_size = 5\n",
    "values_for_a = [4, 5]\n",
    "idx = 1  # changing to 1  selects 5\n",
    "N = 21\n",
    "shots = 15000\n",
    "\n",
    "print(\n",
    "    cudaq.draw(phase_kernel, control_register_size, work_register_size,\n",
    "               values_for_a[idx], N))\n",
    "\n",
    "results = cudaq.sample(phase_kernel,\n",
    "                       control_register_size,\n",
    "                       work_register_size,\n",
    "                       values_for_a[idx],\n",
    "                       N,\n",
    "                       shots_count=shots)\n",
    "print(\n",
    "    \"Measurement results for a={} and N={} with {} qubits in the control register \"\n",
    "    .format(values_for_a[idx], N, control_register_size))\n",
    "print(results)"
   ]
  },
  {
   "cell_type": "code",
   "execution_count": null,
   "metadata": {},
   "outputs": [],
   "source": []
  }
 ],
 "metadata": {
  "kernelspec": {
   "display_name": "cuda-quantum",
   "language": "python",
   "name": "python3"
  },
  "language_info": {
   "codemirror_mode": {
    "name": "ipython",
    "version": 3
   },
   "file_extension": ".py",
   "mimetype": "text/x-python",
   "name": "python",
   "nbconvert_exporter": "python",
   "pygments_lexer": "ipython3",
   "version": "3.10.13"
  }
 },
 "nbformat": 4,
 "nbformat_minor": 2
}
