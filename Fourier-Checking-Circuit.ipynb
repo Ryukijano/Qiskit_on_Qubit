{
 "cells": [
  {
   "cell_type": "code",
   "execution_count": 6,
   "id": "c064f913-d259-44fd-bab8-c604df0dcd0d",
   "metadata": {},
   "outputs": [],
   "source": [
    "import qiskit.quantum_info as qi\n",
    "from qiskit.circuit.library import FourierChecking\n",
    "from qiskit.visualization import *"
   ]
  },
  {
   "cell_type": "code",
   "execution_count": 7,
   "id": "486bd43d-323b-411c-a100-9cc07be341cc",
   "metadata": {},
   "outputs": [],
   "source": [
    "#defining functions f and g\n",
    "f = [1, -1, -1, 1]\n",
    "g = [1, 1, -1, -1]"
   ]
  },
  {
   "cell_type": "code",
   "execution_count": 8,
   "id": "c83cd2f9-d864-4532-b187-dee2d76ac31d",
   "metadata": {},
   "outputs": [
    {
     "data": {
      "image/png": "[encoded data removed]",
      "text/plain": [
       "<Figure size 387.452x144.48 with 1 Axes>"
      ]
     },
     "execution_count": 8,
     "metadata": {},
     "output_type": "execute_result"
    }
   ],
   "source": [
    "#checking if the fourier trans of function g is correlated with f\n",
    "#if the probability P(f,g) is >= 0.05 then FT(g) is correlated with FT(f)\n",
    "circ = FourierChecking(f=f, g=g)\n",
    "circ.draw()"
   ]
  },
  {
   "cell_type": "code",
   "execution_count": 9,
   "id": "31f349bd-16e1-4ce5-8882-c5f7adaf6553",
   "metadata": {},
   "outputs": [
    {
     "data": {
      "image/png": "[encoded data removed]",
      "text/plain": [
       "<Figure size 504x360 with 1 Axes>"
      ]
     },
     "execution_count": 9,
     "metadata": {},
     "output_type": "execute_result"
    }
   ],
   "source": [
    "zero = qi.Statevector.from_label('00')\n",
    "sv = zero.evolve(circ)\n",
    "probabilities = sv.probabilities_dict()\n",
    "plot_histogram(probabilities)"
   ]
  }
 ],
 "metadata": {
  "kernelspec": {
   "display_name": "Qiskit v0.34.2 (ipykernel)",
   "language": "python",
   "name": "python3"
  },
  "language_info": {
   "codemirror_mode": {
    "name": "ipython",
    "version": 3
   },
   "file_extension": ".py",
   "mimetype": "text/x-python",
   "name": "python",
   "nbconvert_exporter": "python",
   "pygments_lexer": "ipython3",
   "version": "3.8.12"
  },
  "widgets": {
   "application/vnd.jupyter.widget-state+json": {
    "state": {
     "04d726be2ae24697aa3262d5d85350cd": {
      "model_module": "@jupyter-widgets/controls",
      "model_module_version": "1.5.0",
      "model_name": "DescriptionStyleModel",
      "state": {
       "description_width": ""
      }
     },
     "0778d914d59d48e2acfb4c5c93cf36bd": {
      "model_module": "@jupyter-widgets/controls",
      "model_module_version": "1.5.0",
      "model_name": "HBoxModel",
      "state": {
       "children": [
        "IPY_MODEL_7bfdc3d85b5848aeb103dde4fdb979d7",
        "IPY_MODEL_dedcd57e902045ad9d9ed48e8037de9c",
        "IPY_MODEL_f124f974866242359af9e93b008b423c",
        "IPY_MODEL_8b61b50001d140b6b99d54a5149b7eba",
        "IPY_MODEL_3dc2304ec693469789349daa8894bcfa"
       ],
       "layout": "IPY_MODEL_1115ccae84b0446393a5fe09d826ffdd"
      }
     },
     "0b5de37ed52444b5a00b142d1903fe01": {
      "model_module": "@jupyter-widgets/controls",
      "model_module_version": "1.5.0",
      "model_name": "DescriptionStyleModel",
      "state": {
       "description_width": ""
      }
     },
     "0f5946ac31b84bd8a9ecd067f3ce3dcd": {
      "model_module": "@jupyter-widgets/controls",
      "model_module_version": "1.5.0",
      "model_name": "DescriptionStyleModel",
      "state": {
       "description_width": ""
      }
     },
     "1115ccae84b0446393a5fe09d826ffdd": {
      "model_module": "@jupyter-widgets/base",
      "model_module_version": "1.2.0",
      "model_name": "LayoutModel",
      "state": {
       "margin": "0px 0px 0px 37px",
       "width": "600px"
      }
     },
     "2462813d387c45ea8c5e88ec13922865": {
      "model_module": "@jupyter-widgets/controls",
      "model_module_version": "1.5.0",
      "model_name": "GridBoxModel",
      "state": {
       "children": [
        "IPY_MODEL_db0ca0c3e600465f978bc8ff75122d7c"
       ],
       "layout": "IPY_MODEL_fd22845f42b543779e686adcabbd0908"
      }
     },
     "294a130081fb4f55a543e134b22dc796": {
      "model_module": "@jupyter-widgets/base",
      "model_module_version": "1.2.0",
      "model_name": "LayoutModel",
      "state": {
       "width": "70px"
      }
     },
     "34a987b3f591470d88a97762afbbdde7": {
      "model_module": "@jupyter-widgets/base",
      "model_module_version": "1.2.0",
      "model_name": "LayoutModel",
      "state": {
       "width": "95px"
      }
     },
     "3dc2304ec693469789349daa8894bcfa": {
      "model_module": "@jupyter-widgets/controls",
      "model_module_version": "1.5.0",
      "model_name": "HTMLModel",
      "state": {
       "layout": "IPY_MODEL_d049b93b49a94283b8f45b5782be7220",
       "style": "IPY_MODEL_0b5de37ed52444b5a00b142d1903fe01",
       "value": "<h5>Message</h5>"
      }
     },
     "7bfdc3d85b5848aeb103dde4fdb979d7": {
      "model_module": "@jupyter-widgets/controls",
      "model_module_version": "1.5.0",
      "model_name": "HTMLModel",
      "state": {
       "layout": "IPY_MODEL_f1c161d8a78e44d681fe0e28c09aa0c2",
       "style": "IPY_MODEL_0f5946ac31b84bd8a9ecd067f3ce3dcd",
       "value": "<h5>Job ID</h5>"
      }
     },
     "884929f7a72d4894afde0b7634e6b263": {
      "model_module": "@jupyter-widgets/base",
      "model_module_version": "1.2.0",
      "model_name": "LayoutModel",
      "state": {
       "margin": "0px 0px 10px 0px"
      }
     },
     "8b61b50001d140b6b99d54a5149b7eba": {
      "model_module": "@jupyter-widgets/controls",
      "model_module_version": "1.5.0",
      "model_name": "HTMLModel",
      "state": {
       "layout": "IPY_MODEL_294a130081fb4f55a543e134b22dc796",
       "style": "IPY_MODEL_04d726be2ae24697aa3262d5d85350cd",
       "value": "<h5>Queue</h5>"
      }
     },
     "91dad55b079d4ee2ad76cada26b068e6": {
      "model_module": "@jupyter-widgets/controls",
      "model_module_version": "1.5.0",
      "model_name": "ButtonStyleModel",
      "state": {}
     },
     "b8b35b0bc3244346a6ce5c0f7dbe88a8": {
      "model_module": "@jupyter-widgets/base",
      "model_module_version": "1.2.0",
      "model_name": "LayoutModel",
      "state": {
       "grid_area": "right",
       "padding": "0px 0px 0px 0px",
       "width": "70px"
      }
     },
     "c50396c2ad634a6a8bd40db3c83f0f60": {
      "model_module": "@jupyter-widgets/base",
      "model_module_version": "1.2.0",
      "model_name": "LayoutModel",
      "state": {
       "width": "145px"
      }
     },
     "cf80a83edc684bd4a70270b9e77cca83": {
      "model_module": "@jupyter-widgets/controls",
      "model_module_version": "1.5.0",
      "model_name": "DescriptionStyleModel",
      "state": {
       "description_width": ""
      }
     },
     "cfe2177bf858446d8c62b97a0658c0d4": {
      "model_module": "@jupyter-widgets/controls",
      "model_module_version": "1.5.0",
      "model_name": "DescriptionStyleModel",
      "state": {
       "description_width": ""
      }
     },
     "d049b93b49a94283b8f45b5782be7220": {
      "model_module": "@jupyter-widgets/base",
      "model_module_version": "1.2.0",
      "model_name": "LayoutModel",
      "state": {}
     },
     "db0ca0c3e600465f978bc8ff75122d7c": {
      "model_module": "@jupyter-widgets/controls",
      "model_module_version": "1.5.0",
      "model_name": "ButtonModel",
      "state": {
       "button_style": "primary",
       "description": "Clear",
       "layout": "IPY_MODEL_b8b35b0bc3244346a6ce5c0f7dbe88a8",
       "style": "IPY_MODEL_91dad55b079d4ee2ad76cada26b068e6"
      }
     },
     "dedcd57e902045ad9d9ed48e8037de9c": {
      "model_module": "@jupyter-widgets/controls",
      "model_module_version": "1.5.0",
      "model_name": "HTMLModel",
      "state": {
       "layout": "IPY_MODEL_c50396c2ad634a6a8bd40db3c83f0f60",
       "style": "IPY_MODEL_f157ef96c41a48adbe939a4dba6f1e51",
       "value": "<h5>Backend</h5>"
      }
     },
     "df78331c26e4453e831582ac6c62d229": {
      "model_module": "@jupyter-widgets/controls",
      "model_module_version": "1.5.0",
      "model_name": "HTMLModel",
      "state": {
       "layout": "IPY_MODEL_884929f7a72d4894afde0b7634e6b263",
       "style": "IPY_MODEL_cf80a83edc684bd4a70270b9e77cca83",
       "value": "<p style='font-family: IBM Plex Sans, Arial, Helvetica, sans-serif; font-size: 20px; font-weight: medium;'>Circuit Properties</p>"
      }
     },
     "f124f974866242359af9e93b008b423c": {
      "model_module": "@jupyter-widgets/controls",
      "model_module_version": "1.5.0",
      "model_name": "HTMLModel",
      "state": {
       "layout": "IPY_MODEL_34a987b3f591470d88a97762afbbdde7",
       "style": "IPY_MODEL_cfe2177bf858446d8c62b97a0658c0d4",
       "value": "<h5>Status</h5>"
      }
     },
     "f157ef96c41a48adbe939a4dba6f1e51": {
      "model_module": "@jupyter-widgets/controls",
      "model_module_version": "1.5.0",
      "model_name": "DescriptionStyleModel",
      "state": {
       "description_width": ""
      }
     },
     "f1c161d8a78e44d681fe0e28c09aa0c2": {
      "model_module": "@jupyter-widgets/base",
      "model_module_version": "1.2.0",
      "model_name": "LayoutModel",
      "state": {
       "width": "190px"
      }
     },
     "fd22845f42b543779e686adcabbd0908": {
      "model_module": "@jupyter-widgets/base",
      "model_module_version": "1.2.0",
      "model_name": "LayoutModel",
      "state": {
       "grid_template_areas": "\n                                       \". . . . right \"\n                                        ",
       "grid_template_columns": "20% 20% 20% 20% 20%",
       "width": "100%"
      }
     }
    },
    "version_major": 2,
    "version_minor": 0
   }
  }
 },
 "nbformat": 4,
 "nbformat_minor": 5
}
