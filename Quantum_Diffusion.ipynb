{
 "cells": [
  {
   "cell_type": "code",
   "execution_count": 1,
   "id": "a40bdddb-eb2f-4c98-abd0-b029b1d4736e",
   "metadata": {
    "tags": []
   },
   "outputs": [],
   "source": [
    "# Importing standard Qiskit libraries\n",
    "from qiskit import QuantumCircuit, transpile\n",
    "from qiskit.tools.jupyter import *\n",
    "from qiskit.visualization import *\n",
    "from ibm_quantum_widgets import *\n",
    "\n",
    "# qiskit-ibmq-provider has been deprecated.\n",
    "# Please see the Migration Guides in https://ibm.biz/provider_migration_guide for more detail.\n",
    "from qiskit_ibm_runtime import QiskitRuntimeService, Sampler, Estimator, Session, Options\n",
    "\n",
    "# Loading your IBM Quantum account(s)\n",
    "service = QiskitRuntimeService(channel=\"ibm_quantum\")\n",
    "\n",
    "# Invoke a primitive. For more details see https://qiskit.org/documentation/partners/qiskit_ibm_runtime/tutorials.html\n",
    "# result = Sampler(\"ibmq_qasm_simulator\").run(circuits).result()"
   ]
  },
  {
   "cell_type": "markdown",
   "id": "3689107a-f7d2-4157-a763-740906d0dc40",
   "metadata": {},
   "source": [
    "1. Quantum Data Encoding:\n",
    "\n",
    "1.1 Higher-dimensional Encoding:\n",
    "\n",
    "Given our data point, we'll encode it into the amplitude of a quantum state."
   ]
  },
  {
   "cell_type": "code",
   "execution_count": 5,
   "id": "bc6882a4-6b41-4267-9d62-e56e2b1d305c",
   "metadata": {
    "tags": []
   },
   "outputs": [],
   "source": [
    "import numpy as np\n",
    "from qiskit import QuantumCircuit\n",
    "\n",
    "def amplitude_encoding(data_point):\n",
    "    \"\"\"Encode a data point into the amplitude of a quantum state.\"\"\"\n",
    "    n_qubits = int(np.ceil(np.log2(len(data_point))))\n",
    "    qc = QuantumCircuit(n_qubits)\n",
    "    normalized_data = data_point / np.linalg.norm(data_point)\n",
    "    qc.initialize(normalized_data, list(range(n_qubits)))\n",
    "    return qc\n",
    "\n"
   ]
  },
  {
   "cell_type": "markdown",
   "id": "fbd6d595-ed5b-4f14-a708-5c71e4baf19a",
   "metadata": {},
   "source": [
    "1.2 Variational Quantum Circuits:\n",
    "We'll design a simple variational circuit with a fixed architecture but parameterized gates."
   ]
  },
  {
   "cell_type": "code",
   "execution_count": 6,
   "id": "9b629f97-4302-492f-ba0d-4a691c72e930",
   "metadata": {
    "tags": []
   },
   "outputs": [],
   "source": [
    "def variational_circuit(params):\n",
    "    \"\"\"Generate a quantum state based on parameters.\"\"\"\n",
    "    n_qubits = len(params) // 3  # Assuming 3 parameters per qubit for simplicity\n",
    "    qc = QuantumCircuit(n_qubits)\n",
    "    for i in range(n_qubits):\n",
    "        qc.u(params[3*i], params[3*i + 1], params[3*i + 2], i)\n",
    "    return qc\n"
   ]
  },
  {
   "cell_type": "markdown",
   "id": "92f9e79e-5e6e-45fd-ac2c-b74fc65bc889",
   "metadata": {
    "tags": []
   },
   "source": [
    "2. Quantum Noise Process:\n",
    "We will introduce controlled noise into the quantum state using RX rotations as a simplistic model."
   ]
  },
  {
   "cell_type": "code",
   "execution_count": 8,
   "id": "4adc515a-c3bc-4fb3-8687-de21feadff89",
   "metadata": {},
   "outputs": [],
   "source": [
    "def introduce_noise(qc, noise_level=0.2):\n",
    "    \"\"\"Add noise to a quantum circuit.\"\"\"\n",
    "    n_qubits = qc.num_qubits\n",
    "    for i in range(n_qubits):\n",
    "        qc.rx(noise_level, i)\n",
    "    return qc\n"
   ]
  },
  {
   "cell_type": "markdown",
   "id": "9943a635-f271-47f3-b18d-1dd111f9bb08",
   "metadata": {},
   "source": [
    "3. Quantum Denoising Circuit:\n",
    "Here's our denoising circuit, similar in structure to the variational circuit but with its own set of parameters.\n",
    "\n"
   ]
  },
  {
   "cell_type": "code",
   "execution_count": 9,
   "id": "6d58ad16-f954-4f8d-a8bb-f7955363c963",
   "metadata": {
    "tags": []
   },
   "outputs": [],
   "source": [
    "def denoising_circuit(params):\n",
    "    \"\"\"Parameterized circuit for denoising.\"\"\"\n",
    "    n_qubits = len(params) // 3\n",
    "    qc = QuantumCircuit(n_qubits)\n",
    "    for i in range(n_qubits):\n",
    "        qc.u(params[3*i], params[3*i + 1], params[3*i + 2], i)\n",
    "    return qc\n"
   ]
  },
  {
   "cell_type": "markdown",
   "id": "5e8c2273-e2cf-4f70-a92c-5fe77d578ffc",
   "metadata": {
    "tags": []
   },
   "source": [
    "4. Training the Quantum Diffusion Model:\n",
    "This is the most involved step. For simplicity, we will use the statevector simulator and aim to maximize the overlap between the denoised and target state"
   ]
  },
  {
   "cell_type": "code",
   "execution_count": 11,
   "id": "1b2a6f4d-1341-46ab-b44c-936ff0136c49",
   "metadata": {
    "tags": []
   },
   "outputs": [],
   "source": [
    "from qiskit import Aer, transpile, assemble, execute\n",
    "\n",
    "def train_model(data_point, noise_level=0.2, epochs=100, lr=0.1):\n",
    "    \"\"\"Train the quantum diffusion model.\"\"\"\n",
    "    n_qubits = int(np.ceil(np.log2(len(data_point))))\n",
    "    params = np.random.rand(3 * n_qubits)  # Initial parameters\n",
    "    backend = Aer.get_backend('statevector_simulator')\n",
    "    \n",
    "    for epoch in range(epochs):\n",
    "        # Forward process: Encoding -> Noise introduction\n",
    "        qc = amplitude_encoding(data_point)\n",
    "        introduce_noise(qc, noise_level)\n",
    "        \n",
    "        # Denoising\n",
    "        denoise_qc = denoising_circuit(params)\n",
    "        qc.compose(denoise_qc)\n",
    "        \n",
    "        # Compute overlap with the target state\n",
    "        t_qc = transpile(qc, backend)\n",
    "        qobj = assemble(t_qc)\n",
    "        final_state = execute(qc, backend).result().get_statevector()\n",
    "        \n",
    "        target_qc = amplitude_encoding(data_point)\n",
    "        t_target_qc = transpile(target_qc, backend)\n",
    "        qobj_target = assemble(t_target_qc)\n",
    "        target_state = execute(target_qc, backend).result().get_statevector()\n",
    "        \n",
    "        overlap = abs(np.dot(target_state.conj(), final_state))\n",
    "        \n",
    "        # Simplistic parameter update (gradient-free for simplicity)\n",
    "        if overlap < 1.0:\n",
    "            params += lr * (1.0 - overlap)\n",
    "            \n",
    "    return params\n"
   ]
  },
  {
   "cell_type": "markdown",
   "id": "8c85d0a3-ce62-4216-84e7-5a01c246fb5b",
   "metadata": {},
   "source": [
    "5. Quantum Generative Process:\n",
    "Given our trained parameters, we can try to generate the data.\n",
    "\n"
   ]
  },
  {
   "cell_type": "code",
   "execution_count": 12,
   "id": "6dc9eba0-532f-476f-9d51-c0e18067aa44",
   "metadata": {
    "tags": []
   },
   "outputs": [],
   "source": [
    "def generate_data(trained_params):\n",
    "    \"\"\"Generate data using the trained model.\"\"\"\n",
    "    n_qubits = len(trained_params) // 3\n",
    "    qc = QuantumCircuit(n_qubits)\n",
    "    qc.initialize([1] + [0] * (2**n_qubits - 1), list(range(n_qubits)))  # Simple initial state\n",
    "    denoise_qc = denoising_circuit(trained_params)\n",
    "    qc.compose(denoise_qc.inverse())  # Inverse denoising for generation\n",
    "    backend = Aer.get_backend('statevector_simulator')\n",
    "    t_qc = transpile(qc, backend)\n",
    "    qobj = assemble(t_qc)\n",
    "    generated_state = execute(qc, backend).result().get_statevector()\n",
    "    return generated_state\n"
   ]
  },
  {
   "cell_type": "markdown",
   "id": "1773ea3d-c220-4662-86d7-f229cb24349e",
   "metadata": {},
   "source": [
    "6. Putting It All Together and Running the Example:\n",
    "Here, we'll define a toy dataset, train our quantum diffusion model on it, and then attempt to regenerate the data using the model."
   ]
  },
  {
   "cell_type": "code",
   "execution_count": 17,
   "id": "e5b4cb88-60f1-4b81-821e-d85ce50112e4",
   "metadata": {
    "tags": []
   },
   "outputs": [
    {
     "name": "stderr",
     "output_type": "stream",
     "text": [
      "/tmp/ipykernel_97/1454704389.py:28: DeprecationWarning: The return type of saved statevectors has been changed from a `numpy.ndarray` to a `qiskit.quantum_info.Statevector` as of qiskit-aer 0.10. Accessing numpy array attributes is deprecated and will result in an error in a future release. To continue using saved result objects as arrays you can explicitly cast them using  `np.asarray(object)`.\n",
      "  overlap = abs(np.dot(target_state.conj(), final_state))\n"
     ]
    },
    {
     "name": "stdout",
     "output_type": "stream",
     "text": [
      "Generated Quantum State: Statevector([1.+0.j, 0.+0.j, 0.+0.j, 0.+0.j],\n",
      "            dims=(2, 2))\n"
     ]
    }
   ],
   "source": [
    "# Define a toy dataset\n",
    "# For simplicity, let's consider a data point in a 4-dimensional space\n",
    "data_point = np.array([0.5, 0.3, 0.1, 0.1])\n",
    "\n",
    "# Train the quantum diffusion model\n",
    "trained_params = train_model(data_point, epochs=5000, lr=0.05)\n",
    "\n",
    "# Generate data using the trained model\n",
    "generated_state = generate_data(trained_params)\n",
    "print(\"Generated Quantum State:\", generated_state)\n"
   ]
  },
  {
   "cell_type": "markdown",
   "id": "3af278c9-980b-4b83-8d76-1ec202f08c4d",
   "metadata": {},
   "source": [
    "7. Analyzing and Interpreting the Results:\n",
    "Once you run the above code, you'll obtain a generated quantum state. Ideally, the amplitude distribution of this state should resemble the data_point array we started with. You can visualize the squared amplitudes (probabilities) and compare them with the original data."
   ]
  },
  {
   "cell_type": "code",
   "execution_count": 18,
   "id": "9efdcdc3-df71-4e92-af89-db558c554370",
   "metadata": {
    "tags": []
   },
   "outputs": [
    {
     "data": {
      "image/png": "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
