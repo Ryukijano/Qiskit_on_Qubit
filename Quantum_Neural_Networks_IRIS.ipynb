{
 "cells": [
  {
   "cell_type": "code",
   "execution_count": 1,
   "id": "f933cf56",
   "metadata": {},
   "outputs": [],
   "source": [
    "import qiskit\n",
    "from qiskit import QuantumCircuit, Aer, IBMQ, QuantumRegister, ClassicalRegister\n",
    "import pandas as pd\n",
    "import numpy as np\n",
    "import copy\n",
    "from sklearn import model_selection, datasets, svm\n",
    "import matplotlib.pyplot as plt"
   ]
  },
  {
   "cell_type": "code",
   "execution_count": 2,
   "id": "2ae906df",
   "metadata": {},
   "outputs": [],
   "source": [
    "d = datasets.load_iris()\n",
    "X = d.data\n",
    "Y = d.target\n",
    "\n",
    "X_train, X_test, Y_train, Y_test = model_selection.train_test_split(X,Y,test_size=0.2,random_state=42)"
   ]
  },
  {
   "cell_type": "code",
   "execution_count": 3,
   "id": "2bf8bb39",
   "metadata": {},
   "outputs": [
    {
     "data": {
      "text/html": [
       "<div>\n",
       "<style scoped>\n",
       "    .dataframe tbody tr th:only-of-type {\n",
       "        vertical-align: middle;\n",
       "    }\n",
       "\n",
       "    .dataframe tbody tr th {\n",
       "        vertical-align: top;\n",
       "    }\n",
       "\n",
       "    .dataframe thead th {\n",
       "        text-align: right;\n",
       "    }\n",
       "</style>\n",
       "<table border=\"1\" class=\"dataframe\">\n",
       "  <thead>\n",
       "    <tr style=\"text-align: right;\">\n",
       "      <th></th>\n",
       "      <th>0</th>\n",
       "      <th>1</th>\n",
       "      <th>2</th>\n",
       "      <th>3</th>\n",
       "    </tr>\n",
       "  </thead>\n",
       "  <tbody>\n",
       "    <tr>\n",
       "      <th>0</th>\n",
       "      <td>5.1</td>\n",
       "      <td>3.5</td>\n",
       "      <td>1.4</td>\n",
       "      <td>0.2</td>\n",
       "    </tr>\n",
       "    <tr>\n",
       "      <th>1</th>\n",
       "      <td>4.9</td>\n",
       "      <td>3.0</td>\n",
       "      <td>1.4</td>\n",
       "      <td>0.2</td>\n",
       "    </tr>\n",
       "    <tr>\n",
       "      <th>2</th>\n",
       "      <td>4.7</td>\n",
       "      <td>3.2</td>\n",
       "      <td>1.3</td>\n",
       "      <td>0.2</td>\n",
       "    </tr>\n",
       "    <tr>\n",
       "      <th>3</th>\n",
       "      <td>4.6</td>\n",
       "      <td>3.1</td>\n",
       "      <td>1.5</td>\n",
       "      <td>0.2</td>\n",
       "    </tr>\n",
       "    <tr>\n",
       "      <th>4</th>\n",
       "      <td>5.0</td>\n",
       "      <td>3.6</td>\n",
       "      <td>1.4</td>\n",
       "      <td>0.2</td>\n",
       "    </tr>\n",
       "    <tr>\n",
       "      <th>...</th>\n",
       "      <td>...</td>\n",
       "      <td>...</td>\n",
       "      <td>...</td>\n",
       "      <td>...</td>\n",
       "    </tr>\n",
       "    <tr>\n",
       "      <th>145</th>\n",
       "      <td>6.7</td>\n",
       "      <td>3.0</td>\n",
       "      <td>5.2</td>\n",
       "      <td>2.3</td>\n",
       "    </tr>\n",
       "    <tr>\n",
       "      <th>146</th>\n",
       "      <td>6.3</td>\n",
       "      <td>2.5</td>\n",
       "      <td>5.0</td>\n",
       "      <td>1.9</td>\n",
       "    </tr>\n",
       "    <tr>\n",
       "      <th>147</th>\n",
       "      <td>6.5</td>\n",
       "      <td>3.0</td>\n",
       "      <td>5.2</td>\n",
       "      <td>2.0</td>\n",
       "    </tr>\n",
       "    <tr>\n",
       "      <th>148</th>\n",
       "      <td>6.2</td>\n",
       "      <td>3.4</td>\n",
       "      <td>5.4</td>\n",
       "      <td>2.3</td>\n",
       "    </tr>\n",
       "    <tr>\n",
       "      <th>149</th>\n",
       "      <td>5.9</td>\n",
       "      <td>3.0</td>\n",
       "      <td>5.1</td>\n",
       "      <td>1.8</td>\n",
       "    </tr>\n",
       "  </tbody>\n",
       "</table>\n",
       "<p>150 rows × 4 columns</p>\n",
       "</div>"
      ],
      "text/plain": [
       "       0    1    2    3\n",
       "0    5.1  3.5  1.4  0.2\n",
       "1    4.9  3.0  1.4  0.2\n",
       "2    4.7  3.2  1.3  0.2\n",
       "3    4.6  3.1  1.5  0.2\n",
       "4    5.0  3.6  1.4  0.2\n",
       "..   ...  ...  ...  ...\n",
       "145  6.7  3.0  5.2  2.3\n",
       "146  6.3  2.5  5.0  1.9\n",
       "147  6.5  3.0  5.2  2.0\n",
       "148  6.2  3.4  5.4  2.3\n",
       "149  5.9  3.0  5.1  1.8\n",
       "\n",
       "[150 rows x 4 columns]"
      ]
     },
     "execution_count": 3,
     "metadata": {},
     "output_type": "execute_result"
    }
   ],
   "source": [
    "pd.DataFrame(X)"
   ]
  },
  {
   "cell_type": "code",
   "execution_count": 4,
   "id": "9872d69c",
   "metadata": {},
   "outputs": [
    {
     "data": {
      "text/html": [
       "<div>\n",
       "<style scoped>\n",
       "    .dataframe tbody tr th:only-of-type {\n",
       "        vertical-align: middle;\n",
       "    }\n",
       "\n",
       "    .dataframe tbody tr th {\n",
       "        vertical-align: top;\n",
       "    }\n",
       "\n",
       "    .dataframe thead th {\n",
       "        text-align: right;\n",
       "    }\n",
       "</style>\n",
       "<table border=\"1\" class=\"dataframe\">\n",
       "  <thead>\n",
       "    <tr style=\"text-align: right;\">\n",
       "      <th></th>\n",
       "      <th>0</th>\n",
       "    </tr>\n",
       "  </thead>\n",
       "  <tbody>\n",
       "    <tr>\n",
       "      <th>0</th>\n",
       "      <td>0</td>\n",
       "    </tr>\n",
       "    <tr>\n",
       "      <th>1</th>\n",
       "      <td>0</td>\n",
       "    </tr>\n",
       "    <tr>\n",
       "      <th>2</th>\n",
       "      <td>0</td>\n",
       "    </tr>\n",
       "    <tr>\n",
       "      <th>3</th>\n",
       "      <td>0</td>\n",
       "    </tr>\n",
       "    <tr>\n",
       "      <th>4</th>\n",
       "      <td>0</td>\n",
       "    </tr>\n",
       "    <tr>\n",
       "      <th>...</th>\n",
       "      <td>...</td>\n",
       "    </tr>\n",
       "    <tr>\n",
       "      <th>145</th>\n",
       "      <td>2</td>\n",
       "    </tr>\n",
       "    <tr>\n",
       "      <th>146</th>\n",
       "      <td>2</td>\n",
       "    </tr>\n",
       "    <tr>\n",
       "      <th>147</th>\n",
       "      <td>2</td>\n",
       "    </tr>\n",
       "    <tr>\n",
       "      <th>148</th>\n",
       "      <td>2</td>\n",
       "    </tr>\n",
       "    <tr>\n",
       "      <th>149</th>\n",
       "      <td>2</td>\n",
       "    </tr>\n",
       "  </tbody>\n",
       "</table>\n",
       "<p>150 rows × 1 columns</p>\n",
       "</div>"
      ],
      "text/plain": [
       "     0\n",
       "0    0\n",
       "1    0\n",
       "2    0\n",
       "3    0\n",
       "4    0\n",
       "..  ..\n",
       "145  2\n",
       "146  2\n",
       "147  2\n",
       "148  2\n",
       "149  2\n",
       "\n",
       "[150 rows x 1 columns]"
      ]
     },
     "execution_count": 4,
     "metadata": {},
     "output_type": "execute_result"
    }
   ],
   "source": [
    "pd.DataFrame(Y)"
   ]
  },
  {
   "cell_type": "code",
   "execution_count": 5,
   "id": "bf18bc32",
   "metadata": {},
   "outputs": [
    {
     "name": "stdout",
     "output_type": "stream",
     "text": [
      "[0 0 1 0 0 2 1 0 0 0 2 1 1 0 0 1 2 2 1 2 1 2 1 0 2 1 0 0 0 1 2 0 0 0 1 0 1\n",
      " 2 0 1 2 0 2 2 1 1 2 1 0 1 2 0 0 1 1 0 2 0 0 1 1 2 1 2 2 1 0 0 2 2 0 0 0 1\n",
      " 2 0 2 2 0 1 1 2 1 2 0 2 1 2 1 1 1 0 1 1 0 1 2 2 0 1 2 2 0 2 0 1 2 2 1 2 1\n",
      " 1 2 2 0 1 2 0 1 2]\n"
     ]
    }
   ],
   "source": [
    "print(Y_train)"
   ]
  },
  {
   "cell_type": "code",
   "execution_count": 6,
   "id": "4003f7d6",
   "metadata": {},
   "outputs": [
    {
     "name": "stdout",
     "output_type": "stream",
     "text": [
      "[[4.6 3.6 1.  0.2]\n",
      " [5.7 4.4 1.5 0.4]\n",
      " [6.7 3.1 4.4 1.4]\n",
      " [4.8 3.4 1.6 0.2]\n",
      " [4.4 3.2 1.3 0.2]\n",
      " [6.3 2.5 5.  1.9]\n",
      " [6.4 3.2 4.5 1.5]\n",
      " [5.2 3.5 1.5 0.2]\n",
      " [5.  3.6 1.4 0.2]\n",
      " [5.2 4.1 1.5 0.1]\n",
      " [5.8 2.7 5.1 1.9]\n",
      " [6.  3.4 4.5 1.6]\n",
      " [6.7 3.1 4.7 1.5]\n",
      " [5.4 3.9 1.3 0.4]\n",
      " [5.4 3.7 1.5 0.2]\n",
      " [5.5 2.4 3.7 1. ]\n",
      " [6.3 2.8 5.1 1.5]\n",
      " [6.4 3.1 5.5 1.8]\n",
      " [6.6 3.  4.4 1.4]\n",
      " [7.2 3.6 6.1 2.5]\n",
      " [5.7 2.9 4.2 1.3]\n",
      " [7.6 3.  6.6 2.1]\n",
      " [5.6 3.  4.5 1.5]\n",
      " [5.1 3.5 1.4 0.2]\n",
      " [7.7 2.8 6.7 2. ]\n",
      " [5.8 2.7 4.1 1. ]\n",
      " [5.2 3.4 1.4 0.2]\n",
      " [5.  3.5 1.3 0.3]\n",
      " [5.1 3.8 1.9 0.4]\n",
      " [5.  2.  3.5 1. ]\n",
      " [6.3 2.7 4.9 1.8]\n",
      " [4.8 3.4 1.9 0.2]\n",
      " [5.  3.  1.6 0.2]\n",
      " [5.1 3.3 1.7 0.5]\n",
      " [5.6 2.7 4.2 1.3]\n",
      " [5.1 3.4 1.5 0.2]\n",
      " [5.7 3.  4.2 1.2]\n",
      " [7.7 3.8 6.7 2.2]\n",
      " [4.6 3.2 1.4 0.2]\n",
      " [6.2 2.9 4.3 1.3]\n",
      " [5.7 2.5 5.  2. ]\n",
      " [5.5 4.2 1.4 0.2]\n",
      " [6.  3.  4.8 1.8]\n",
      " [5.8 2.7 5.1 1.9]\n",
      " [6.  2.2 4.  1. ]\n",
      " [5.4 3.  4.5 1.5]\n",
      " [6.2 3.4 5.4 2.3]\n",
      " [5.5 2.3 4.  1.3]\n",
      " [5.4 3.9 1.7 0.4]\n",
      " [5.  2.3 3.3 1. ]\n",
      " [6.4 2.7 5.3 1.9]\n",
      " [5.  3.3 1.4 0.2]\n",
      " [5.  3.2 1.2 0.2]\n",
      " [5.5 2.4 3.8 1.1]\n",
      " [6.7 3.  5.  1.7]\n",
      " [4.9 3.1 1.5 0.2]\n",
      " [5.8 2.8 5.1 2.4]\n",
      " [5.  3.4 1.5 0.2]\n",
      " [5.  3.5 1.6 0.6]\n",
      " [5.9 3.2 4.8 1.8]\n",
      " [5.1 2.5 3.  1.1]\n",
      " [6.9 3.2 5.7 2.3]\n",
      " [6.  2.7 5.1 1.6]\n",
      " [6.1 2.6 5.6 1.4]\n",
      " [7.7 3.  6.1 2.3]\n",
      " [5.5 2.5 4.  1.3]\n",
      " [4.4 2.9 1.4 0.2]\n",
      " [4.3 3.  1.1 0.1]\n",
      " [6.  2.2 5.  1.5]\n",
      " [7.2 3.2 6.  1.8]\n",
      " [4.6 3.1 1.5 0.2]\n",
      " [5.1 3.5 1.4 0.3]\n",
      " [4.4 3.  1.3 0.2]\n",
      " [6.3 2.5 4.9 1.5]\n",
      " [6.3 3.4 5.6 2.4]\n",
      " [4.6 3.4 1.4 0.3]\n",
      " [6.8 3.  5.5 2.1]\n",
      " [6.3 3.3 6.  2.5]\n",
      " [4.7 3.2 1.3 0.2]\n",
      " [6.1 2.9 4.7 1.4]\n",
      " [6.5 2.8 4.6 1.5]\n",
      " [6.2 2.8 4.8 1.8]\n",
      " [7.  3.2 4.7 1.4]\n",
      " [6.4 3.2 5.3 2.3]\n",
      " [5.1 3.8 1.6 0.2]\n",
      " [6.9 3.1 5.4 2.1]\n",
      " [5.9 3.  4.2 1.5]\n",
      " [6.5 3.  5.2 2. ]\n",
      " [5.7 2.6 3.5 1. ]\n",
      " [5.2 2.7 3.9 1.4]\n",
      " [6.1 3.  4.6 1.4]\n",
      " [4.5 2.3 1.3 0.3]\n",
      " [6.6 2.9 4.6 1.3]\n",
      " [5.5 2.6 4.4 1.2]\n",
      " [5.3 3.7 1.5 0.2]\n",
      " [5.6 3.  4.1 1.3]\n",
      " [7.3 2.9 6.3 1.8]\n",
      " [6.7 3.3 5.7 2.1]\n",
      " [5.1 3.7 1.5 0.4]\n",
      " [4.9 2.4 3.3 1. ]\n",
      " [6.7 3.3 5.7 2.5]\n",
      " [7.2 3.  5.8 1.6]\n",
      " [4.9 3.6 1.4 0.1]\n",
      " [6.7 3.1 5.6 2.4]\n",
      " [4.9 3.  1.4 0.2]\n",
      " [6.9 3.1 4.9 1.5]\n",
      " [7.4 2.8 6.1 1.9]\n",
      " [6.3 2.9 5.6 1.8]\n",
      " [5.7 2.8 4.1 1.3]\n",
      " [6.5 3.  5.5 1.8]\n",
      " [6.3 2.3 4.4 1.3]\n",
      " [6.4 2.9 4.3 1.3]\n",
      " [5.6 2.8 4.9 2. ]\n",
      " [5.9 3.  5.1 1.8]\n",
      " [5.4 3.4 1.7 0.2]\n",
      " [6.1 2.8 4.  1.3]\n",
      " [4.9 2.5 4.5 1.7]\n",
      " [5.8 4.  1.2 0.2]\n",
      " [5.8 2.6 4.  1.2]\n",
      " [7.1 3.  5.9 2.1]]\n"
     ]
    }
   ],
   "source": [
    "print(X_train)"
   ]
  },
  {
   "cell_type": "code",
   "execution_count": 7,
   "id": "0e434971",
   "metadata": {},
   "outputs": [],
   "source": [
    "N = 4"
   ]
  },
  {
   "cell_type": "code",
   "execution_count": 8,
   "id": "278bc8ca",
   "metadata": {},
   "outputs": [],
   "source": [
    "def feature_map(X):\n",
    "    q = QuantumRegister(N)\n",
    "    c = ClassicalRegister(1)\n",
    "    qc = QuantumCircuit(q,c)\n",
    "    \n",
    "    for i, x in enumerate(X):\n",
    "        qc.rx(x,i)\n",
    "    return qc, c"
   ]
  },
  {
   "cell_type": "code",
   "execution_count": 9,
   "id": "416f2812",
   "metadata": {},
   "outputs": [],
   "source": [
    "def variational_circuit(qc, theta):\n",
    "    for i in range(N-1):\n",
    "        qc.cnot(i, i+1)\n",
    "    qc.cnot(N-1, 0)\n",
    "    for i in range(N):\n",
    "        qc.ry(theta[i],i)\n",
    "    return qc"
   ]
  },
  {
   "cell_type": "code",
   "execution_count": 10,
   "id": "fb7efd55",
   "metadata": {},
   "outputs": [
    {
     "name": "stdout",
     "output_type": "stream",
     "text": [
      "{'0': 5319, '1': 4681}\n",
      "0.5319\n"
     ]
    },
    {
     "data": {
      "image/png": "[encoded data removed]",
      "text/plain": [
       "<Figure size 641.378x325.08 with 1 Axes>"
      ]
     },
     "execution_count": 10,
     "metadata": {},
     "output_type": "execute_result"
    }
   ],
   "source": [
    "qc, c = feature_map(X_train[5])\n",
    "qc.barrier()\n",
    "qc = variational_circuit(qc, np.random.rand(N))\n",
    "qc.barrier()\n",
    "qc.measure(0, c)\n",
    "\n",
    "shots = 1E4\n",
    "backend = Aer.get_backend('qasm_simulator')\n",
    "job = qiskit.execute(qc, backend, shots = shots)\n",
    "result = job.result()\n",
    "counts = result.get_counts(qc)\n",
    "print(counts)\n",
    "print(counts['0']/shots)\n",
    "\n",
    "qc.draw('mpl')"
   ]
  },
  {
   "cell_type": "code",
   "execution_count": 11,
   "id": "8b89b57f",
   "metadata": {},
   "outputs": [],
   "source": [
    "def quantum_nn(X, theta, simulator=True):\n",
    "\n",
    "    qc, c = feature_map(X)\n",
    "    qc = variational_circuit(qc, theta)\n",
    "    qc.measure(0, c)\n",
    "    shots = 1E4\n",
    "    backend = Aer.get_backend('qasm_simulator')\n",
    "    \n",
    "    if simulator == False:\n",
    "        \n",
    "        shots = 5000\n",
    "        provider = IBMQ.load_account()\n",
    "        backend = provider.get_backend('ibmq_qasm_simulator')\n",
    "    \n",
    "    job = qiskit.execute(qc, backend, shots=shots)\n",
    "    result = job.result()\n",
    "    counts = result.get_counts(qc)\n",
    "    \n",
    "    return counts['1']/shots"
   ]
  },
  {
   "cell_type": "code",
   "execution_count": 12,
   "id": "33ce773e",
   "metadata": {},
   "outputs": [],
   "source": [
    "def loss(prediction, target):\n",
    "    return (prediction - target)**2"
   ]
  },
  {
   "cell_type": "code",
   "execution_count": 13,
   "id": "a4380d23",
   "metadata": {},
   "outputs": [],
   "source": [
    "def gradient(X, Y, theta):\n",
    "    delta = 0.01\n",
    "    grad = []\n",
    "    for i in range(len(theta)):\n",
    "        dtheta = copy.copy(theta)\n",
    "        dtheta[i] += delta\n",
    "        pred1 = quantum_nn(X, dtheta)\n",
    "        pred2 = quantum_nn(X, theta)\n",
    "        \n",
    "        grad.append((loss(pred1,Y) - loss(pred2,Y)) / delta)\n",
    "    \n",
    "    return np.array(grad)"
   ]
  },
  {
   "cell_type": "code",
   "execution_count": 14,
   "id": "7d9b82b9",
   "metadata": {},
   "outputs": [],
   "source": [
    "def accuracy(X, Y, theta):\n",
    "    \n",
    "    counter = 0\n",
    "    for X_i, Y_i in zip(X, Y): \n",
    "        \n",
    "        prediction = quantum_nn(X_i, theta)\n",
    "        if prediction < 0.5 and Y_i == 0:\n",
    "            counter += 1\n",
    "        elif prediction >= 0.5 and Y_i == 1:\n",
    "            counter += 1\n",
    "            \n",
    "    return counter/len(Y)"
   ]
  },
  {
   "cell_type": "code",
   "execution_count": 15,
   "id": "b5f0f5df",
   "metadata": {},
   "outputs": [
    {
     "name": "stdout",
     "output_type": "stream",
     "text": [
      "Epoch \t Loss (in %) \t Training Accuracy (in %)\n",
      "0 \t 94.610 \t 56.667\n",
      "1 \t 83.339 \t 55.833\n",
      "2 \t 84.539 \t 56.667\n",
      "3 \t 76.006 \t 56.667\n",
      "4 \t 76.838 \t 55.000\n",
      "5 \t 76.094 \t 57.500\n",
      "6 \t 75.027 \t 56.667\n",
      "7 \t 75.115 \t 55.000\n",
      "8 \t 75.917 \t 55.833\n",
      "9 \t 75.646 \t 55.833\n",
      "10 \t 76.160 \t 55.000\n",
      "11 \t 76.675 \t 55.000\n",
      "12 \t 76.200 \t 56.667\n",
      "13 \t 77.776 \t 54.167\n",
      "14 \t 84.928 \t 58.333\n",
      "15 \t 78.709 \t 57.500\n",
      "16 \t 75.468 \t 55.833\n",
      "17 \t 75.440 \t 56.667\n",
      "18 \t 75.907 \t 55.833\n",
      "19 \t 76.146 \t 57.500\n"
     ]
    }
   ],
   "source": [
    "eta = 0.05\n",
    "loss_list = []\n",
    "theta = np.ones(N)\n",
    "\n",
    "print('Epoch \\t Loss (in %) \\t Training Accuracy (in %)')\n",
    "\n",
    "for i in range(20):\n",
    "    \n",
    "    loss_tmp = []\n",
    "\n",
    "    for X_i, Y_i in zip(X_train, Y_train):\n",
    "        prediction = quantum_nn(X_i, theta)\n",
    "        loss_tmp.append(loss(prediction, Y_i))\n",
    "\n",
    "        #update theta\n",
    "        theta = theta - eta * gradient(X_i, Y_i, theta)\n",
    "    \n",
    "    loss_list.append(np.mean(loss_tmp))\n",
    "    acc = accuracy(X_train, Y_train, theta)\n",
    "    \n",
    "    print(f'{i} \\t {loss_list[-1]*100:.3f} \\t {acc*100:.3f}')"
   ]
  },
  {
   "cell_type": "code",
   "execution_count": 16,
   "id": "64ed4034",
   "metadata": {},
   "outputs": [
    {
     "data": {
      "text/plain": [
       "<function matplotlib.pyplot.show(close=None, block=None)>"
      ]
     },
     "execution_count": 16,
     "metadata": {},
     "output_type": "execute_result"
    },
    {
     "data": {
      "image/png": "[encoded data removed]",
      "text/plain": [
       "<Figure size 432x288 with 1 Axes>"
      ]
     },
     "metadata": {
      "needs_background": "light"
     },
     "output_type": "display_data"
    }
   ],
   "source": [
    "plt.plot(loss_list)\n",
    "plt.xlabel('Epoch')\n",
    "plt.ylabel('Loss')\n",
    "plt.show"
   ]
  },
  {
   "cell_type": "code",
   "execution_count": 17,
   "id": "577ac932",
   "metadata": {},
   "outputs": [
    {
     "data": {
      "text/plain": [
       "0.43333333333333335"
      ]
     },
     "execution_count": 17,
     "metadata": {},
     "output_type": "execute_result"
    }
   ],
   "source": [
    "accuracy(X_test, Y_test, theta)"
   ]
  },
  {
   "cell_type": "code",
   "execution_count": 18,
   "id": "37e328ad",
   "metadata": {},
   "outputs": [
    {
     "data": {
      "text/plain": [
       "SVC()"
      ]
     },
     "execution_count": 18,
     "metadata": {},
     "output_type": "execute_result"
    }
   ],
   "source": [
    "clf = svm.SVC()\n",
    "clf.fit(X_train, Y_train)"
   ]
  },
  {
   "cell_type": "code",
   "execution_count": 19,
   "id": "fcf95ddf",
   "metadata": {},
   "outputs": [
    {
     "name": "stdout",
     "output_type": "stream",
     "text": [
      "[1 0 2 1 1 0 1 2 1 1 2 0 0 0 0 1 2 1 1 2 0 2 0 2 2 2 2 2 0 0]\n",
      "[1 0 2 1 1 0 1 2 1 1 2 0 0 0 0 1 2 1 1 2 0 2 0 2 2 2 2 2 0 0]\n"
     ]
    }
   ],
   "source": [
    "print(clf.predict(X_test))\n",
    "print(Y_test)"
   ]
  }
 ],
 "metadata": {
  "kernelspec": {
   "display_name": "Python 3 (ipykernel)",
   "language": "python",
   "name": "python3"
  },
  "language_info": {
   "codemirror_mode": {
    "name": "ipython",
    "version": 3
   },
   "file_extension": ".py",
   "mimetype": "text/x-python",
   "name": "python",
   "nbconvert_exporter": "python",
   "pygments_lexer": "ipython3",
   "version": "3.9.7"
  }
 },
 "nbformat": 4,
 "nbformat_minor": 5
}
