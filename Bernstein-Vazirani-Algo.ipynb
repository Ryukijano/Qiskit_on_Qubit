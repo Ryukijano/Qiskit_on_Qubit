{
 "cells": [
  {
   "cell_type": "code",
   "execution_count": 1,
   "id": "f45d7135-a5cf-4ace-9287-f9083398e276",
   "metadata": {
    "execution": {
     "iopub.execute_input": "2022-03-02T16:37:44.506465Z",
     "iopub.status.busy": "2022-03-02T16:37:44.504481Z",
     "iopub.status.idle": "2022-03-02T16:37:46.403003Z",
     "shell.execute_reply": "2022-03-02T16:37:46.402001Z"
    },
    "papermill": {
     "duration": 1.977086,
     "end_time": "2022-03-02T16:37:46.407064",
     "exception": false,
     "start_time": "2022-03-02T16:37:44.429978",
     "status": "completed"
    },
    "tags": []
   },
   "outputs": [
    {
     "name": "stderr",
     "output_type": "stream",
     "text": [
      "<frozen importlib._bootstrap>:219: RuntimeWarning: scipy._lib.messagestream.MessageStream size changed, may indicate binary incompatibility. Expected 56 from C header, got 64 from PyObject\n"
     ]
    }
   ],
   "source": [
    "from qiskit import *\n",
    "%matplotlib inline\n",
    "from qiskit.tools.visualization import plot_histogram"
   ]
  },
  {
   "cell_type": "code",
   "execution_count": 2,
   "id": "bbd3bf7f-31ff-44d4-8055-8253409392f7",
   "metadata": {
    "execution": {
     "iopub.execute_input": "2022-03-02T16:37:46.561629Z",
     "iopub.status.busy": "2022-03-02T16:37:46.561062Z",
     "iopub.status.idle": "2022-03-02T16:37:46.570700Z",
     "shell.execute_reply": "2022-03-02T16:37:46.569338Z"
    },
    "papermill": {
     "duration": 0.089533,
     "end_time": "2022-03-02T16:37:46.574807",
     "exception": false,
     "start_time": "2022-03-02T16:37:46.485274",
     "status": "completed"
    },
    "tags": []
   },
   "outputs": [],
   "source": [
    "secretnumber = '1101001'"
   ]
  },
  {
   "cell_type": "code",
   "execution_count": 3,
   "id": "e2994272-1579-4910-93da-fceb225cde18",
   "metadata": {
    "execution": {
     "iopub.execute_input": "2022-03-02T16:37:46.758941Z",
     "iopub.status.busy": "2022-03-02T16:37:46.758426Z",
     "iopub.status.idle": "2022-03-02T16:37:46.780218Z",
     "shell.execute_reply": "2022-03-02T16:37:46.779051Z"
    },
    "papermill": {
     "duration": 0.100465,
     "end_time": "2022-03-02T16:37:46.782360",
     "exception": false,
     "start_time": "2022-03-02T16:37:46.681895",
     "status": "completed"
    },
    "tags": []
   },
   "outputs": [
    {
     "data": {
      "text/plain": [
       "<qiskit.circuit.instructionset.InstructionSet at 0x7f2a93ddcd40>"
      ]
     },
     "execution_count": 3,
     "metadata": {},
     "output_type": "execute_result"
    }
   ],
   "source": [
    "circuit = QuantumCircuit(len(secretnumber)+1, len(secretnumber))\n",
    "circuit.h(range(len(secretnumber)))\n",
    "circuit.x(len(secretnumber))\n",
    "circuit.h(len(secretnumber))\n",
    "\n",
    "circuit.barrier()\n",
    "\n",
    "for i, on_off in enumerate(reversed(secretnumber)):\n",
    "    if on_off == '1':\n",
    "        circuit.cx(i, len(secretnumber))\n",
    "\n",
    "circuit.barrier()\n",
    "\n",
    "circuit.h(range(len(secretnumber)))\n",
    "\n",
    "circuit.barrier()\n",
    "\n",
    "circuit.measure(range(len(secretnumber)), range(len(secretnumber)))"
   ]
  },
  {
   "cell_type": "code",
   "execution_count": 4,
   "id": "9dc53d1a-2716-422e-9aed-3c04969a2e4c",
   "metadata": {
    "execution": {
     "iopub.execute_input": "2022-03-02T16:37:46.952318Z",
     "iopub.status.busy": "2022-03-02T16:37:46.951787Z",
     "iopub.status.idle": "2022-03-02T16:37:47.765141Z",
     "shell.execute_reply": "2022-03-02T16:37:47.764698Z"
    },
    "papermill": {
     "duration": 0.924771,
     "end_time": "2022-03-02T16:37:47.770822",
     "exception": false,
     "start_time": "2022-03-02T16:37:46.846051",
     "status": "completed"
    },
    "tags": []
   },
   "outputs": [
    {
     "data": {
      "image/png": "[encoded data removed]",
      "text/plain": [
       "<Figure size 1110x565.88 with 1 Axes>"
      ]
     },
     "execution_count": 4,
     "metadata": {},
     "output_type": "execute_result"
    }
   ],
   "source": [
    "circuit.draw(output='mpl')"
   ]
  },
  {
   "cell_type": "code",
   "execution_count": 5,
   "id": "9b218cb0-a23a-48e2-8216-b5f433f81455",
   "metadata": {
    "execution": {
     "iopub.execute_input": "2022-03-02T16:37:47.932937Z",
     "iopub.status.busy": "2022-03-02T16:37:47.931011Z",
     "iopub.status.idle": "2022-03-02T16:37:48.474926Z",
     "shell.execute_reply": "2022-03-02T16:37:48.474239Z"
    },
    "papermill": {
     "duration": 0.627275,
     "end_time": "2022-03-02T16:37:48.476434",
     "exception": false,
     "start_time": "2022-03-02T16:37:47.849159",
     "status": "completed"
    },
    "tags": []
   },
   "outputs": [
    {
     "name": "stdout",
     "output_type": "stream",
     "text": [
      "{'1101001': 1}\n"
     ]
    }
   ],
   "source": [
    "simulator = Aer.get_backend('qasm_simulator')\n",
    "result = execute(circuit, backend = simulator, shots = 1).result()\n",
    "count = result.get_counts()\n",
    "print(count)"
   ]
  }
 ],
 "metadata": {
  "kernelspec": {
   "display_name": "Qiskit v0.34.2 (ipykernel)",
   "language": "python",
   "name": "python3"
  },
  "language_info": {
   "codemirror_mode": {
    "name": "ipython",
    "version": 3
   },
   "file_extension": ".py",
   "mimetype": "text/x-python",
   "name": "python",
   "nbconvert_exporter": "python",
   "pygments_lexer": "ipython3",
   "version": "3.8.12"
  },
  "papermill": {
   "default_parameters": {},
   "duration": 7.887969,
   "end_time": "2022-03-02T16:37:49.083942",
   "environment_variables": {},
   "exception": null,
   "input_path": "/home/jovyan/QiskitSeason1/Bernstein-Vazirani-Algo.ipynb",
   "output_path": "/home/jovyan/QiskitSeason1/Bernstein-Vazirani-Algo-background-results.ipynb",
   "parameters": {},
   "start_time": "2022-03-02T16:37:41.195973",
   "version": "2.3.3"
  },
  "widgets": {
   "application/vnd.jupyter.widget-state+json": {
    "state": {
     "070be110d0bb47dc908def3a3fcf9592": {
      "model_module": "@jupyter-widgets/controls",
      "model_module_version": "1.5.0",
      "model_name": "ButtonStyleModel",
      "state": {}
     },
     "249a6622bc5f42e7825427c957d49bc0": {
      "model_module": "@jupyter-widgets/controls",
      "model_module_version": "1.5.0",
      "model_name": "GridBoxModel",
      "state": {
       "children": [
        "IPY_MODEL_422731b0f7284cfe861efa203d872731"
       ],
       "layout": "IPY_MODEL_bd46727e302643e9ac662a9ce8ff7c26"
      }
     },
     "251d7245de5e4b9c9c0ebc698b01d352": {
      "model_module": "@jupyter-widgets/controls",
      "model_module_version": "1.5.0",
      "model_name": "HTMLModel",
      "state": {
       "layout": "IPY_MODEL_68dbc2f5838b4980a4151947d4bf3e56",
       "style": "IPY_MODEL_a4eebedd6de243e19999b3505a31aec2",
       "value": "<h5>Status</h5>"
      }
     },
     "3a45396060184b58a2989ab617f49bc2": {
      "model_module": "@jupyter-widgets/base",
      "model_module_version": "1.2.0",
      "model_name": "LayoutModel",
      "state": {
       "margin": "0px 0px 10px 0px"
      }
     },
     "422731b0f7284cfe861efa203d872731": {
      "model_module": "@jupyter-widgets/controls",
      "model_module_version": "1.5.0",
      "model_name": "ButtonModel",
      "state": {
       "button_style": "primary",
       "description": "Clear",
       "layout": "IPY_MODEL_c2b9b154fa38447fbc4b7d0cc1c4f32d",
       "style": "IPY_MODEL_070be110d0bb47dc908def3a3fcf9592"
      }
     },
     "4e205a93c4e74ef9aa4ac1c95e3e6386": {
      "model_module": "@jupyter-widgets/controls",
      "model_module_version": "1.5.0",
      "model_name": "DescriptionStyleModel",
      "state": {
       "description_width": ""
      }
     },
     "5f071114fbd04e7b90d454911b1cdafb": {
      "model_module": "@jupyter-widgets/controls",
      "model_module_version": "1.5.0",
      "model_name": "DescriptionStyleModel",
      "state": {
       "description_width": ""
      }
     },
     "68dbc2f5838b4980a4151947d4bf3e56": {
      "model_module": "@jupyter-widgets/base",
      "model_module_version": "1.2.0",
      "model_name": "LayoutModel",
      "state": {
       "width": "95px"
      }
     },
     "6a311cf1d67844e5a4d34f0f23e1b08a": {
      "model_module": "@jupyter-widgets/controls",
      "model_module_version": "1.5.0",
      "model_name": "HTMLModel",
      "state": {
       "layout": "IPY_MODEL_9b807e4804be408cb55f85f328c7466d",
       "style": "IPY_MODEL_f067bec5ef1b424f90997d3c272421cb",
       "value": "<h5>Backend</h5>"
      }
     },
     "6c771e2b89d3405dbd1384795ef2e180": {
      "model_module": "@jupyter-widgets/controls",
      "model_module_version": "1.5.0",
      "model_name": "HTMLModel",
      "state": {
       "layout": "IPY_MODEL_71c8b677b99f4d3e80c7be5493d6aa30",
       "style": "IPY_MODEL_f1afd13e0f4a4c45bf22ac8bff7ea3b3",
       "value": "<h5>Job ID</h5>"
      }
     },
     "71c8b677b99f4d3e80c7be5493d6aa30": {
      "model_module": "@jupyter-widgets/base",
      "model_module_version": "1.2.0",
      "model_name": "LayoutModel",
      "state": {
       "width": "190px"
      }
     },
     "9b807e4804be408cb55f85f328c7466d": {
      "model_module": "@jupyter-widgets/base",
      "model_module_version": "1.2.0",
      "model_name": "LayoutModel",
      "state": {
       "width": "145px"
      }
     },
     "a4eebedd6de243e19999b3505a31aec2": {
      "model_module": "@jupyter-widgets/controls",
      "model_module_version": "1.5.0",
      "model_name": "DescriptionStyleModel",
      "state": {
       "description_width": ""
      }
     },
     "b3bd6cd1887e45dda32170332d70c3a4": {
      "model_module": "@jupyter-widgets/controls",
      "model_module_version": "1.5.0",
      "model_name": "HTMLModel",
      "state": {
       "layout": "IPY_MODEL_eaec52c2ea854c4c9879d30ea498cabf",
       "style": "IPY_MODEL_e7328c8d6fea42f2b9a067ad56b7f130",
       "value": "<h5>Queue</h5>"
      }
     },
     "bd46727e302643e9ac662a9ce8ff7c26": {
      "model_module": "@jupyter-widgets/base",
      "model_module_version": "1.2.0",
      "model_name": "LayoutModel",
      "state": {
       "grid_template_areas": "\n                                       \". . . . right \"\n                                        ",
       "grid_template_columns": "20% 20% 20% 20% 20%",
       "width": "100%"
      }
     },
     "bef730e36ee34d75a477959fe7e29890": {
      "model_module": "@jupyter-widgets/base",
      "model_module_version": "1.2.0",
      "model_name": "LayoutModel",
      "state": {
       "margin": "0px 0px 0px 37px",
       "width": "600px"
      }
     },
     "c2b9b154fa38447fbc4b7d0cc1c4f32d": {
      "model_module": "@jupyter-widgets/base",
      "model_module_version": "1.2.0",
      "model_name": "LayoutModel",
      "state": {
       "grid_area": "right",
       "padding": "0px 0px 0px 0px",
       "width": "70px"
      }
     },
     "c9429ad1d493401c80eaff447fde5d28": {
      "model_module": "@jupyter-widgets/controls",
      "model_module_version": "1.5.0",
      "model_name": "HBoxModel",
      "state": {
       "children": [
        "IPY_MODEL_6c771e2b89d3405dbd1384795ef2e180",
        "IPY_MODEL_6a311cf1d67844e5a4d34f0f23e1b08a",
        "IPY_MODEL_251d7245de5e4b9c9c0ebc698b01d352",
        "IPY_MODEL_b3bd6cd1887e45dda32170332d70c3a4",
        "IPY_MODEL_f372db395274422fbb9221c127e9a486"
       ],
       "layout": "IPY_MODEL_bef730e36ee34d75a477959fe7e29890"
      }
     },
     "cbeb34410a124eb6ae47c8c13ba1f944": {
      "model_module": "@jupyter-widgets/controls",
      "model_module_version": "1.5.0",
      "model_name": "HTMLModel",
      "state": {
       "layout": "IPY_MODEL_3a45396060184b58a2989ab617f49bc2",
       "style": "IPY_MODEL_4e205a93c4e74ef9aa4ac1c95e3e6386",
       "value": "<p style='font-family: IBM Plex Sans, Arial, Helvetica, sans-serif; font-size: 20px; font-weight: medium;'>Circuit Properties</p>"
      }
     },
     "e7328c8d6fea42f2b9a067ad56b7f130": {
      "model_module": "@jupyter-widgets/controls",
      "model_module_version": "1.5.0",
      "model_name": "DescriptionStyleModel",
      "state": {
       "description_width": ""
      }
     },
     "eaec52c2ea854c4c9879d30ea498cabf": {
      "model_module": "@jupyter-widgets/base",
      "model_module_version": "1.2.0",
      "model_name": "LayoutModel",
      "state": {
       "width": "70px"
      }
     },
     "ed697741485b4b98b43c7edc5249c239": {
      "model_module": "@jupyter-widgets/base",
      "model_module_version": "1.2.0",
      "model_name": "LayoutModel",
      "state": {}
     },
     "f067bec5ef1b424f90997d3c272421cb": {
      "model_module": "@jupyter-widgets/controls",
      "model_module_version": "1.5.0",
      "model_name": "DescriptionStyleModel",
      "state": {
       "description_width": ""
      }
     },
     "f1afd13e0f4a4c45bf22ac8bff7ea3b3": {
      "model_module": "@jupyter-widgets/controls",
      "model_module_version": "1.5.0",
      "model_name": "DescriptionStyleModel",
      "state": {
       "description_width": ""
      }
     },
     "f372db395274422fbb9221c127e9a486": {
      "model_module": "@jupyter-widgets/controls",
      "model_module_version": "1.5.0",
      "model_name": "HTMLModel",
      "state": {
       "layout": "IPY_MODEL_ed697741485b4b98b43c7edc5249c239",
       "style": "IPY_MODEL_5f071114fbd04e7b90d454911b1cdafb",
       "value": "<h5>Message</h5>"
      }
     }
    },
    "version_major": 2,
    "version_minor": 0
   }
  }
 },
 "nbformat": 4,
 "nbformat_minor": 5
}