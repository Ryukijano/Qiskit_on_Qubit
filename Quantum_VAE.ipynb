{
 "cells": [
  {
   "cell_type": "code",
   "execution_count": 1,
   "id": "a40bdddb-eb2f-4c98-abd0-b029b1d4736e",
   "metadata": {
    "tags": []
   },
   "outputs": [],
   "source": [
    "# Importing standard Qiskit libraries\n",
    "from qiskit import QuantumCircuit, transpile\n",
    "from qiskit.tools.jupyter import *\n",
    "from qiskit.visualization import *\n",
    "from ibm_quantum_widgets import *\n",
    "\n",
    "# qiskit-ibmq-provider has been deprecated.\n",
    "# Please see the Migration Guides in https://ibm.biz/provider_migration_guide for more detail.\n",
    "from qiskit_ibm_runtime import QiskitRuntimeService, Sampler, Estimator, Session, Options\n",
    "\n",
    "# Loading your IBM Quantum account(s)\n",
    "service = QiskitRuntimeService(channel=\"ibm_quantum\")\n",
    "\n",
    "# Invoke a primitive. For more details see https://qiskit.org/documentation/partners/qiskit_ibm_runtime/tutorials.html\n",
    "# result = Sampler(\"ibmq_qasm_simulator\").run(circuits).result()"
   ]
  },
  {
   "cell_type": "markdown",
   "id": "3689107a-f7d2-4157-a763-740906d0dc40",
   "metadata": {},
   "source": [
    "1. Load and Preprocess the MNIST Dataset:\n",
    "\n",
    "We will use the MNIST dataset for training and evaluation."
   ]
  },
  {
   "cell_type": "code",
   "execution_count": 2,
   "id": "bc6882a4-6b41-4267-9d62-e56e2b1d305c",
   "metadata": {
    "tags": []
   },
   "outputs": [],
   "source": [
    "import numpy as np\n",
    "from tensorflow.keras.datasets import mnist\n",
    "from sklearn.preprocessing import StandardScaler\n",
    "\n",
    "# Load MNIST dataset\n",
    "(x_train, y_train), (x_test, y_test) = mnist.load_data()\n",
    "\n",
    "# Normalize the data\n",
    "x_train = x_train.astype('float32') / 255.0\n",
    "x_test = x_test.astype('float32') / 255.0\n",
    "\n",
    "# Flatten the images\n",
    "x_train = x_train.reshape(-1, 28*28)\n",
    "x_test = x_test.reshape(-1, 28*28)\n",
    "\n",
    "# Standardize the data\n",
    "scaler = StandardScaler()\n",
    "x_train = scaler.fit_transform(x_train)\n",
    "x_test = scaler.transform(x_test)\n"
   ]
  },
  {
   "cell_type": "markdown",
   "id": "fbd6d595-ed5b-4f14-a708-5c71e4baf19a",
   "metadata": {},
   "source": [
    "2. Define the Quantum Variational Autoencoder (QVAE):\n",
    "We'll design a simple QVAE with a parameterized quantum circuit as the encoder and decoder."
   ]
  },
  {
   "cell_type": "code",
   "execution_count": 3,
   "id": "9b629f97-4302-492f-ba0d-4a691c72e930",
   "metadata": {
    "tags": []
   },
   "outputs": [],
   "source": [
    "def variational_circuit(params, n_qubits):\n",
    "    \"\"\"Generate a quantum state based on parameters.\"\"\"\n",
    "    qc = QuantumCircuit(n_qubits)\n",
    "    for i in range(n_qubits):\n",
    "        qc.u(params[3*i], params[3*i + 1], params[3*i + 2], i)\n",
    "    return qc\n",
    "\n",
    "def encoder(params, data_point):\n",
    "    \"\"\"Encode the data point into a quantum state.\"\"\"\n",
    "    n_qubits = int(np.ceil(np.log2(len(data_point))))\n",
    "    qc = QuantumCircuit(n_qubits)\n",
    "    normalized_data = data_point / np.linalg.norm(data_point)\n",
    "    qc.initialize(normalized_data, list(range(n_qubits)))\n",
    "    variational_qc = variational_circuit(params, n_qubits)\n",
    "    qc.compose(variational_qc, inplace=True)\n",
    "    return qc\n",
    "\n",
    "def decoder(params, encoded_state):\n",
    "    \"\"\"Decode the quantum state back to classical data.\"\"\"\n",
    "    n_qubits = encoded_state.num_qubits\n",
    "    variational_qc = variational_circuit(params, n_qubits)\n",
    "    encoded_state.compose(variational_qc.inverse(), inplace=True)\n",
    "    return encoded_state\n"
   ]
  },
  {
   "cell_type": "markdown",
   "id": "92f9e79e-5e6e-45fd-ac2c-b74fc65bc889",
   "metadata": {
    "tags": []
   },
   "source": [
    "3. Training the QVAE:\n",
    "We will train the QVAE using the MNIST dataset."
   ]
  },
  {
   "cell_type": "code",
   "execution_count": 4,
   "id": "4adc515a-c3bc-4fb3-8687-de21feadff89",
   "metadata": {},
   "outputs": [],
   "source": [
    "from qiskit import Aer, transpile, assemble, execute\n",
    "\n",
    "def train_qvae(x_train, epochs=100, lr=0.1):\n",
    "    \"\"\"Train the QVAE model.\"\"\"\n",
    "    n_qubits = int(np.ceil(np.log2(x_train.shape[1])))\n",
    "    encoder_params = np.random.rand(3 * n_qubits)  # Initial encoder parameters\n",
    "    decoder_params = np.random.rand(3 * n_qubits)  # Initial decoder parameters\n",
    "    backend = Aer.get_backend('statevector_simulator')\n",
    "    \n",
    "    for epoch in range(epochs):\n",
    "        for data_point in x_train:\n",
    "            # Encode the data point\n",
    "            qc = encoder(encoder_params, data_point)\n",
    "            \n",
    "            # Decode the quantum state\n",
    "            decoded_qc = decoder(decoder_params, qc)\n",
    "            \n",
    "            # Compute the loss (mean squared error)\n",
    "            t_qc = transpile(decoded_qc, backend)\n",
    "            qobj = assemble(t_qc)\n",
    "            final_state = execute(decoded_qc, backend).result().get_statevector()\n",
    "            \n",
    "            reconstructed_data = np.abs(final_state)**2\n",
    "            loss = np.mean((data_point - reconstructed_data)**2)\n",
    "            \n",
    "            # Simplistic parameter update (gradient-free for simplicity)\n",
    "            encoder_params -= lr * loss\n",
    "            decoder_params -= lr * loss\n",
    "            \n",
    "    return encoder_params, decoder_params\n"
   ]
  },
  {
   "cell_type": "markdown",
   "id": "9943a635-f271-47f3-b18d-1dd111f9bb08",
   "metadata": {},
   "source": [
    "4. Visualizing the Reconstructed and Generated Data:\n",
    "We will visualize the reconstructed and generated data."
   ]
  },
  {
   "cell_type": "code",
   "execution_count": 5,
   "id": "6d58ad16-f954-4f8d-a8bb-f7955363c963",
   "metadata": {
    "tags": []
   },
   "outputs": [],
   "source": [
    "import matplotlib.pyplot as plt\n",
    "\n",
    "def visualize_reconstruction(encoder_params, decoder_params, data_point):\n",
    "    \"\"\"Visualize the reconstructed data.\"\"\"\n",
    "    qc = encoder(encoder_params, data_point)\n",
    "    decoded_qc = decoder(decoder_params, qc)\n",
    "    backend = Aer.get_backend('statevector_simulator')\n",
    "    t_qc = transpile(decoded_qc, backend)\n",
    "    qobj = assemble(t_qc)\n",
    "    final_state = execute(decoded_qc, backend).result().get_statevector()\n",
    "    reconstructed_data = np.abs(final_state)**2\n",
    "    \n",
    "    plt.figure(figsize=(10, 5))\n",
    "    plt.subplot(1, 2, 1)\n",
    "    plt.title('Original Data')\n",
    "    plt.imshow(data_point.reshape(28, 28), cmap='gray')\n",
    "    plt.subplot(1, 2, 2)\n",
    "    plt.title('Reconstructed Data')\n",
    "    plt.imshow(reconstructed_data.reshape(28, 28), cmap='gray')\n",
    "    plt.show()\n"
   ]
  },
  {
   "cell_type": "markdown",
   "id": "5e8c2273-e2cf-4f70-a92c-5fe77d578ffc",
   "metadata": {
    "tags": []
   },
   "source": [
    "5. Putting It All Together and Running the Example:\n",
    "Here, we'll train our QVAE on the MNIST dataset and visualize the reconstructed data."
   ]
  },
  {
   "cell_type": "code",
   "execution_count": 6,
   "id": "1b2a6f4d-1341-46ab-b44c-936ff0136c49",
   "metadata": {
    "tags": []
   },
   "outputs": [],
   "source": [
    "# Train the QVAE model\n",
    "encoder_params, decoder_params = train_qvae(x_train, epochs=100, lr=0.1)\n",
    "\n",
    "# Visualize the reconstructed data\n",
    "data_point = x_test[0]  # Use the first test data point for visualization\n",
    "visualize_reconstruction(encoder_params, decoder_params, data_point)\n"
   ]
  }
 ]
}
