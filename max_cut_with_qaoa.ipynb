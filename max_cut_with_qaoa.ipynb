{
 "cells": [
  {
   "cell_type": "markdown",
   "metadata": {},
   "source": [
    "Farhi et al. introduced the quantum approximation optimization algorithm (QAOA) to solve optimization problems like the max cut problem. Before diving into the details of QAOA, we’ll first define the max cut problem.\n",
    "\n",
    "Max Cut is the problem of finding a partition of a graph’s nodes into two sets which maximizes the edges between the two sets. Although this problem is relatively easy to solve for graphs with few vertices, this problem is NP-hard. The max cut problem has a wide range of applications including machine learning, circuit design and statistical physics, among others. Furthermore, the QAOA algorithm presented in this tutorial can be adapted to other related optimization problems with an even wider application field including portfolio optimization and job shop scheduling, just to name a few.\n",
    "\n",
    "We take the convention that \n",
    " represents a graph with vertex set \n",
    " and edge set \n",
    ". We use the terms vertex and node interchangeably. For this tutorial we assume that the graphs are undirected (that is, \n",
    " and \n",
    " represent the same edge). Our graphs contain no self loops (i.e., for every vertex \n",
    ", there is no edge \n",
    "). A cut of the graph \n",
    " is a partition, \n",
    ", of the vertex set such that every vertex of \n",
    " is a member of exactly one of \n",
    " or \n",
    " (i.e., \n",
    " and \n",
    "). The cut value for a partition is the sum of the edges with one node in \n",
    " and one node in \n",
    ".\n",
    "\n",
    "In the images below, we illustrate two cuts of a graph with the dotted lines. Each of these cuts partitions the graph into two disjoint sets. The cut on the left is not optimal, and the cut on the right is the max cut. The cut on the left divides the graph into disjoint sets \n",
    " and \n",
    ", and that cut contains 3 edges. To more easily visualize the cut, we have colored the vertices in one set of the partition green and the vertices in the other set of the partition gray. The cut depicted in the diagram on the right divides the graph vertices into two disjoint sets \n",
    ", colored gray, and \n",
    ", colored green. The number of edges connecting vertices in the distinct sets is computed by\n",
    "\n",
    " \n",
    " \n",
    " \n",
    "For the graph on the right, the number of edges in the cut (in this case there are \n",
    " edges) is maximal, and this value is referred to as the max cut value. The partitioning \n",
    " — and sometimes the set of edges connecting vertices in \n",
    " and \n",
    " — is referred to as a max cut of a graph. Note that the max cut of a graph need not be unique; that is, two distinct partitions may produce the same cut value."
   ]
  },
  {
   "attachments": {
    "image.png": {
     "image/png": "[encoded data removed]"
    }
   },
   "cell_type": "markdown",
   "metadata": {},
   "source": [
    "![image.png](attachment:image.png)"
   ]
  },
  {
   "cell_type": "markdown",
   "metadata": {},
   "source": [
    "We will use bitstrings to identify vertices in each of the two partitions. For example using the ordering of the vertices, the bitstring 01100 captures the partition in the image above on the left with vertices \n",
    " and \n",
    " in \n",
    ", and the bitstring 01011 codes the partition in the image on the right with vertices \n",
    ", \n",
    ", and \n",
    " in \n",
    ".\n",
    "\n",
    "Let’s code our graph data as lists of integers so that we can call these variables when we create the cudaq.kernel for QAOA."
   ]
  },
  {
   "cell_type": "code",
   "execution_count": 1,
   "metadata": {},
   "outputs": [],
   "source": [
    "import numpy as np\n",
    "import cudaq\n",
    "from cudaq import spin\n",
    "from typing import List\n",
    "\n",
    "# We'll use the graph below to illustrate how QAOA can be used to\n",
    "# solve a max cut problem\n",
    "\n",
    "#       v1  0--------------0 v2\n",
    "#           |              | \\\n",
    "#           |              |  \\\n",
    "#           |              |   \\\n",
    "#           |              |    \\\n",
    "#       v0  0--------------0 v3-- 0 v4\n",
    "# The max cut solutions are 01011, 10100, 01010, 10101 .\n",
    "\n",
    "# First we define the graph nodes (i.e., vertices) and edges as lists of integers so that they can be broadcast into\n",
    "# a cudaq.kernel.\n",
    "nodes: List[int] = [0, 1, 2, 3, 4]\n",
    "edges = [[0, 1], [1, 2], [2, 3], [3, 0], [2, 4], [3, 4]]\n",
    "edges_src: List[int] = [edges[i][0] for i in range(len(edges))]\n",
    "edges_tgt: List[int] = [edges[i][1] for i in range(len(edges))]"
   ]
  },
  {
   "cell_type": "markdown",
   "metadata": {},
   "source": [
    "QAOA is a variational algortihm with a particular ansatz. QAOA is made up of a variational quantum circuit (i.e., a kernel that depends on a set of parameter values) and a classical optimizer. The aim of QAOA is to use the classical optimizer to identify parameter values that generate a quantum circuit whose expectation value for a given cost Hamilitonian is minimized.\n",
    "\n",
    "What distinguishes QAOA from other variational algorithms is the structure of the quantum circuit. For each vertex in the graph, there is an associated qubit in the circuit. The circuit is initialized in a superposition state. The remainder of the QAOA circuit is made up of blocks (referred to as layers). The more layers there are, the better the approximation the algorithm achieves."
   ]
  },
  {
   "cell_type": "code",
   "execution_count": null,
   "metadata": {},
   "outputs": [
    {
     "ename": "SyntaxError",
     "evalue": "invalid syntax (339224343.py, line 1)",
     "output_type": "error",
     "traceback": [
      "\u001b[0;36m  Cell \u001b[0;32mIn[2], line 1\u001b[0;36m\u001b[0m\n\u001b[0;31m    https://nvidia.github.io/cuda-quantum/latest/_images/qaoa-circuit-layers.png\u001b[0m\n\u001b[0m          ^\u001b[0m\n\u001b[0;31mSyntaxError\u001b[0m\u001b[0;31m:\u001b[0m invalid syntax\n"
     ]
    }
   ],
   "source": []
  },
  {
   "cell_type": "markdown",
   "metadata": {},
   "source": []
  }
 ],
 "metadata": {
  "kernelspec": {
   "display_name": "cuda-quantum",
   "language": "python",
   "name": "python3"
  },
  "language_info": {
   "codemirror_mode": {
    "name": "ipython",
    "version": 3
   },
   "file_extension": ".py",
   "mimetype": "text/x-python",
   "name": "python",
   "nbconvert_exporter": "python",
   "pygments_lexer": "ipython3",
   "version": "undefined.undefined.undefined"
  }
 },
 "nbformat": 4,
 "nbformat_minor": 2
}
